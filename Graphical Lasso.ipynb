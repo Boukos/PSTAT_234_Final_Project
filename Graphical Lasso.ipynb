{
 "cells": [
  {
   "cell_type": "markdown",
   "metadata": {},
   "source": [
    "# Graphical Lasso Method\n",
    "\n",
    "http://scikit-learn.org/stable/modules/generated/sklearn.covariance.GraphLasso.html\n",
    "http://statweb.stanford.edu/~tibs/ftp/graph.pdf\n",
    "https://github.com/skggm/skggm\n",
    "https://stats.stackexchange.com/questions/172911/graphical-lasso-numerical-problem-not-spd-matrix-result/228488\n",
    "\n",
    "NOTES:\n",
    "\n",
    "very fast\n",
    "— that is remarkably fast: it solves a 1000 node problem\n",
    "(∼ 500, 000 parameters) in at most a minute, and is 30 to 4000\n",
    "times faster than competing methods.\n",
    "\n",
    "test the speed of glasso"
   ]
  },
  {
   "cell_type": "code",
   "execution_count": null,
   "metadata": {},
   "outputs": [],
   "source": []
  },
  {
   "cell_type": "code",
   "execution_count": null,
   "metadata": {},
   "outputs": [],
   "source": []
  }
 ],
 "metadata": {
  "language_info": {
   "name": "python",
   "pygments_lexer": "ipython3"
  }
 },
 "nbformat": 4,
 "nbformat_minor": 2
}
