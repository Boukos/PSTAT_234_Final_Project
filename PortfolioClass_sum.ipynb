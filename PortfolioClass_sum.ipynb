{
 "cells": [
  {
   "cell_type": "markdown",
   "metadata": {},
   "source": [
    "# PSTAT 234 Final Project - Portfolio Optimization\n",
    "\n",
    "*Group: Xining Li, Ben Ku, Mi Yu, Zhipu Zhou*\n",
    "\n",
    "\n",
    "## Summary\n",
    "\n",
    "Welcome to the PSTAT 234 final project report of our group. The topic of this report is portfolio optimization. \n",
    "\n",
    "Portfolio optimization has wide application in financial industry. To make investment in a group of assets, investors need to construct a portfolio that determines how much money we should allocate to each asset. Generally, investors are risk-inverse -- they pursue high portfolio return while avoid uncertainty of return (i.e. risk). This leads to the primary objective of portfolio optimization: how to maximize the portfolio return at a given level of risk, or how to minimize portfolio risk at a given level of portfolio return. In Markovitz mean-variance portfolio model [1], risk is measured by the standard deviation of portfolio returns, and the optimal portfolio allocation is totally determined by the true return of each asset and the covariance matrix of the returns of the group of assets. However, in practice, the true returns and covariance matrix are not observable, they can only be estimated from asset historical data.\n",
    " \n",
    "There are many ways to estimate the covariance matrix of returns of a group of assets. In this report, we will compare 3 estimation methods for the true covariance matrix or its inverse. As a result, we need to consider the minimal variance portfolio (MVP) model [2], instead of the mean-variance portfolio model. The former pursues to minimize portfolio risk regardless of the portfolio return and only requires to estimate the covariance matrix. It provides a better setting to compare the effectiveness of different (inverse) covariance matrix estimations. One problem of using historical data to estimate (inverse) covariance matrix is that because the financial market is not stationary, it needs to re-computed periodically (called rebalancing). This report will compare different rebalancing frequencies for each estimation method.\n",
    "\n",
    "\n",
    "## Project objectives\n",
    "\n",
    "The objectives of this report include:\n",
    "\n",
    "- Introduction to MVP model with rebalancing \n",
    "- 3 (inverse) covariance matrix estimations: sample covariance estimation, Ledoit-Wolf estimation [3], graphical lasso estimation [4].\n",
    "- Conduct empirical study to compare of portfolio performance."
   ]
  },
  {
   "cell_type": "markdown",
   "metadata": {},
   "source": [
    "## Introduction to MVP model with rebalancing\n",
    "\n",
    "Suppose that we invest among $p$ assets. Let $r_{ti}$ is the daily return of $i$-th asset at time $t$, and $r_t = (r_{t1}, r_{t2}, \\cdots, r_{tp})^T$ be the daily return vector of all assets at time $t$. Assume that the true covariance matrix of asset returns is $\\Sigma$, then the optimal portfolio allocation is given by \n",
    "\\begin{equation}\n",
    "\\text{minimize}_{w\\in\\mathbb{R}^p}\\quad w^T\\Sigma w\\quad\\text{subject to}\\quad \\mathbf{1}^Tw = 1\n",
    "\\end{equation}\n",
    "where $\\mathbf{1} = ({1,1,\\cdots, 1})^T$. $\\Sigma$ is unobservable and we need to estimate it using $\\hat{\\Sigma}$ from market historical data. However, because returns are not stationary over time, the estimated covariance of returns must be periodically updated. A general way is to periodically re-calculate $\\hat{\\Sigma}$ and rebalance the portfolio. Suppose that portfolio rebalancing period is $L$, meaning that every $L$ days the portfolio will be rebalanced once. Let $T_0$ be the investment starting time, and $T_E$ be the end time. The number of rebalancing times \n",
    "\\begin{equation}\n",
    "\\mathcal{T} = \n",
    "\\begin{cases}\n",
    "&\\lfloor\\frac{T_E - T_0}{L}\\rfloor,\\quad&\\text{if $\\frac{T_E - T_0}{L}$ is not an integer}\\\\\n",
    "&\\frac{T_E - T_0}{L}-1,\\quad&\\text{if $\\frac{T_E - T_0}{L}$ is an integer}\n",
    "\\end{cases}\n",
    "\\end{equation}\n",
    "The rebalancing time points are assumed to be $T_1, T_2, \\cdots, T_k, \\cdots, T_{\\mathcal{T}}$ with $T_k - T_{k-1} = L$ for $k=1, 2, \\cdots, \\mathcal{T}$. Suppose that the estimated covariance matrix for $k$-th rebalancing period is $\\hat{\\Sigma}_k$. Under MVP model, the portfolio allocation $w_k = (w_{k1}, w_{k2}, \\cdots, w_{kp})$ during $k$-th period is\n",
    "\n",
    "\\begin{equation}\n",
    "w_k = \\text{argmin}_{w\\in\\mathbb{R}^p}\\quad w^T\\hat{\\Sigma}_kw\\quad\\text{subject to}\\quad \\mathbf{1}^Tw = 1\n",
    "\\end{equation}\n",
    "\n",
    "The solution to this model is\n",
    "\n",
    "\\begin{equation}\n",
    "w_k = (\\mathbf{1}^T\\hat{\\Sigma}_k^{-1}\\mathbf{1})^{-1}\\hat{\\Sigma}_k^{-1}\\mathbf{1}\n",
    "\\end{equation}"
   ]
  },
  {
   "cell_type": "markdown",
   "metadata": {},
   "source": [
    "## Model parameter estimations\n",
    "\n",
    "- **Sample covariance matrix estimator**: A standard way to estimate covariance matrix is sample covariance matrix. For $k$-th period, the sample covariance matrix estimation is\n",
    "\\begin{equation}\n",
    "S = \\frac{1}{L-1}\\sum_{t=T_{k-1}+1-L}^{T_{k-1}}(r_t-\\bar{r}_{k-1})(r_t-\\bar{r}_{k-1})^T\n",
    "\\quad\\text{where}\\quad\n",
    "\\bar{r}_{k-1} = \\biggl(\\frac{1}{L}\\sum_{t = T_{k-1}+1-L}^{T_{k-1}}r_{t1}, \\cdots, \\frac{1}{L}\\sum_{t = T_{k-1}+1-L}^{T_{k-1}}r_{tp}\\biggr)\n",
    "\\end{equation}\n",
    "\n",
    "- **Ledoit-Wolf shrinkage estimator**: The problem of using sample covariance matrix estimation is that in high dimensional case where $L\\leq p$, $S$ is singular and not invertible. Also, it has been shown [5] that sample covariance matrix contains large estimation error that could distort the portfolio optimization.  Many regularization methods have been proposed to estimate (inverse) covariance matrix. For example, the Ledoit-Wolf shrinkage estimator\n",
    "\\begin{equation}\n",
    "\\lambda S + (1-\\lambda)I\n",
    "\\end{equation}\n",
    "where $S$ is the sample covariance matrix, $\\lambda\\in[0,1]$ is a tuning parameter, and $I$ is the identity matrix. \n",
    "\n",
    "- **Graphical lasso estimator**: Although Ledoit-Wolf estimator helps to shrink extreme covariances to zero, its result is dense and fails to give a sparse matrix. Thi impose difficulty to interpret the dependences among asset returns. To solve this difficulty, [4] focuses on estimating inverse covariance matrix (also called precision matrix and is denoted as $\\Omega = \\Sigma^{-1}$) and proposes graphical lasso estimator:\n",
    "\\begin{equation}\n",
    "\\text{argmin}_{\\Omega\\in\\mathbb{R}^{p\\times p}}-\\log\\text{det}\\Omega + \\text{tr}(S\\Omega) + \\lambda\\|\\Omega\\|_1\n",
    "\\end{equation}\n",
    "where $\\|\\cdot\\|_1$ is $l_1$ norm, $\\text{det}\\Omega$ is the determinant of $\\Omega$, $\\text{tr}(S\\Omega)$ is the trace of $S\\Omega$, $S$ is sample covariance matrix, and $\\lambda$ is a tuning parameter. "
   ]
  },
  {
   "cell_type": "markdown",
   "metadata": {},
   "source": [
    "## Tuning parameter determination"
   ]
  },
  {
   "cell_type": "markdown",
   "metadata": {},
   "source": [
    "## Portfolio performance measurements\n",
    "\n",
    "Denote $k_t = k(t) = \\{t: t\\in[T_{k-1}+1, T_k]\\}$, and we assume that there are 252 trading days per year. Following quantities are generally used to measure the performance of a portfolio [2]:\n",
    "\n",
    "- **Realized return**: the annualized average return of the portfolio over the entire investment horizon $[T_0, T_E]$:\n",
    "\n",
    "\\begin{equation}\n",
    "r_p = \\frac{252}{T_E - T_0}\\sum_{t=T_0+1}^{T_E}r_t^Tw_{k_t}\n",
    "\\end{equation}\n",
    "\n",
    "- **Realized risk**: the standard deviation of portfolio over the entire investment horizon:\n",
    "\n",
    "\\begin{equation}\n",
    "\\sigma_p = \\sqrt{\\frac{252}{T_E-T_0}\\sum_{t=T_0+1}^{T_E}(r_t^Tw_{k_t} - r_p)^2}\n",
    "\\end{equation}\n",
    "\n",
    "- **Sharpe ratio**: the realized excess return of portfolio over the annualized risk-free interest rate $r_f$ per unit realized risk.\n",
    "\n",
    "\\begin{equation}\n",
    "SR = \\frac{r_p - r_f}{\\sigma_p}\n",
    "\\end{equation}\n",
    "\n",
    "- **Turnover**: the amount of new portfolio assets purchased or sold over $k$-th period:\n",
    "\\begin{equation}\n",
    "TO(k) = \\biggl\\|w_k - w_{k-1}\\cdot\\bigodot_{t=T_{k-1}+1}^{T_k}(1+r_t)\\biggr\\|_1\n",
    "\\end{equation}\n",
    "where \n",
    "\\begin{equation}\n",
    "\\bigodot_{t=T_{k-1}+1}^{T_k}(1+r_t) = (1+r_{T_{k-1}+1})\\cdot(1+r_{T_{k-1}+2})\\cdot\\cdots\\cdot(1+r_{T_k})\n",
    "\\end{equation}\n",
    "and $\\cdot$ is dot product, $w_0 = (0,0,\\cdots, 0)$. The average turnover over the entire investment horizon is:\n",
    "\\begin{equation}\n",
    "\\overline{TO} = \\frac{1}{\\mathcal{T}}\\sum_{k=1}^{\\mathcal{T}}TO(k)\n",
    "\\end{equation}\n",
    "\n",
    "- **Size of short side**: the proportion of negative weights to the sum of absolute weights of portfolio allocation at $k$-th period:\n",
    "\\begin{equation}\n",
    "SS(k) = \\frac{\\sum_{i=1}^p|\\min(w_{ki},0)|}{\\sum_{i=1}^p|w_{ki}|}\n",
    "\\end{equation}\n",
    "and the average short side over the investment horizon is\n",
    "\\begin{equation}\n",
    "\\overline{SS} = \\frac{1}{\\mathcal{T}}\\sum_{k=1}^{\\mathcal{T}}SS(k)\n",
    "\\end{equation}\n",
    "\n",
    "- **Normalized wealth**: accumulated wealth of portfolio with initial budget is 1 dollar. Transaction costs and borrowing costs are taken into consideration. Let $r_c$ be the transaction cost rate and $r_b$ be the daily borrowing cost rate of interest, the transaction cost incurred in the beginning of $k$-th period is \n",
    "\\begin{equation}\n",
    "TC(k) = r_c\\times TO(k)\n",
    "\\end{equation}\n",
    "and the borrowing cost incurred in $k$-th period is \n",
    "\\begin{equation}\n",
    "BC(k) = ((1+r_b)^L-1)\\sum_{i=1}^p|\\min(w_{k-1,i},0)|\n",
    "\\end{equation}\n",
    "Let $W_{t-1}$ represent the wealth of portfolio after time $t-1$, then wealth of portfolio after time $t$ is\n",
    "\\begin{equation}\n",
    "W_t =\n",
    "\\begin{cases}\n",
    "&W_{t-1}(1+r_t^Tw_{k_t} - TC(k_t) - BC(k_t)), &t = T_{k_t-1}+1\\\\\n",
    "&W_{t-1}(1+r_t^Tw_{k_t}), & t\\neq T_{k_t-1}+1\n",
    "\\end{cases}\n",
    "\\end{equation}"
   ]
  },
  {
   "cell_type": "markdown",
   "metadata": {},
   "source": [
    "## Empirical results\n",
    "\n",
    "First, we load all modules we will use:"
   ]
  },
  {
   "cell_type": "code",
   "execution_count": 1,
   "metadata": {},
   "outputs": [],
   "source": [
    "from collections import OrderedDict\n",
    "import pandas as pd\n",
    "import numpy as np\n",
    "import math\n",
    "import cvxpy as cvx\n",
    "from sklearn.model_selection import KFold # import KFold to do cross validation\n",
    "from sklearn.covariance import GraphLasso, GraphLassoCV, graph_lasso\n",
    "import matplotlib.pyplot as plt\n",
    "from datetime import datetime\n",
    "from scipy import linalg\n",
    "from sklearn.preprocessing import scale\n",
    "import glob\n",
    "import os"
   ]
  },
  {
   "cell_type": "markdown",
   "metadata": {},
   "source": [
    "We choose the Dow Jones Industrial Average component stocks as the group of assets in our portfolio. We downloaded the historical closing prices and use the following code to store the data in `closing_price_5yr.pkl`. Since this file is already available, we do not need to run the below code again."
   ]
  },
  {
   "cell_type": "code",
   "execution_count": 2,
   "metadata": {},
   "outputs": [],
   "source": [
    "# # get data file names\n",
    "# path = os.getcwd()\n",
    "# filenames = glob.glob(path + \"/rawdata/*_data.csv\")\n",
    "\n",
    "# dfs = []\n",
    "# for filename in filenames:\n",
    "#     dfs.append(pd.read_csv(filename))\n",
    "\n",
    "# # Concatenate all data into one DataFrame\n",
    "# closing_price_5yr = pd.concat(dfs, ignore_index=True)[['Name','date','close']].pivot(index='date', columns='Name', values='close')\n",
    "# closing_price_5yr.to_pickle(\"./closing_price_5yr.pkl\")"
   ]
  },
  {
   "cell_type": "markdown",
   "metadata": {},
   "source": [
    "Next, we define a class containing all the necessary functions for portfolio optimization."
   ]
  },
  {
   "cell_type": "code",
   "execution_count": 3,
   "metadata": {},
   "outputs": [],
   "source": [
    "# by applying Ledoit_wolf_cv the n_fold and shrinkage_num must be specified\n",
    "import warnings\n",
    "warnings.filterwarnings(\"ignore\")\n",
    "\n",
    "# by applying Ledoit_wolf_cv the n_fold and shrinkage_num must be specified\n",
    "class portfolio_optimization():\n",
    "    \"\"\"This is a portfolio optimization class aiming to the Realized Return, \n",
    "    shortsize, turnover, and ending portfolio value. \n",
    "    \n",
    "    Input, stock data address, selected companies name, days of period\n",
    "    Using lediot_wolf, must specify n_fold and shrinkage_num\n",
    "    Using graphical_lasso, must specify n_fold and alpha_num\n",
    "    \n",
    "    \"\"\"\n",
    "    def __init__(self, \n",
    "                 stock_dat_address, \n",
    "                 selected_companies_names ,\n",
    "                 days_of_period,\n",
    "                 start, \n",
    "                 covariance_method,\n",
    "                 **method_parameters):\n",
    "        self.selected_companies_names = selected_companies_names\n",
    "        \n",
    "        tmp_stock_data = pd.read_pickle(stock_dat_address).dropna(axis = 1)[selected_companies_names]\n",
    "        self.stock_data = tmp_stock_data.iloc[252-days_of_period:]\n",
    "        self.days_of_period =days_of_period\n",
    "        self.covariance_method = covariance_method\n",
    "        self.start = start\n",
    "        \n",
    "        if covariance_method!='sample':\n",
    "            \n",
    "            for key, value in method_parameters.items():\n",
    "                setattr(self, key, value)\n",
    "\n",
    "        ## The optimal_solution not considering the period\n",
    "     \n",
    "        self.Mat_Optimization_At_Each_Period = self.Optimization_At_Each_Period()  \n",
    "  \n",
    "\n",
    "    ##This is a Lediot_wolf method's function used to do cross-validation \n",
    "    # and compare the predictive risk\n",
    "    ##There might be a problem, but I cannot find it because the difference\n",
    "    ##in the predictive risk seems to be pretty random. We might not use this to do\n",
    "    ##cross-validation\n",
    "\n",
    "    #input the data, the number of folds, and the number of shrinkages value we want to test\n",
    "    def Ledoit_wolf_cv(self, data,n_fold = 5, alpha_num = 50):\n",
    "        datac = pd.DataFrame(scale(data, axis = 0, with_mean = True, with_std = True, copy = True))\n",
    "        #The space between each fold\n",
    "        shrinkage = np.arange(0,1,1.0/alpha_num)\n",
    "        #create a dictionary with lambda as keys and their predictive risk as values\n",
    "        #set the initial predictive risk to be 1\n",
    "        # shrinkage_dict = dict((el,0) for el in shrinkage)\n",
    "        sdv = data.std(axis = 0)\n",
    "    \n",
    "        default_fold ={'fold1':np.zeros(len(shrinkage))}\n",
    "        for ticker in range(n_fold):\n",
    "            default_fold.update({str('fold'+str(ticker+1)): np.zeros(len(shrinkage))})\n",
    "        pr_all  =pd.DataFrame(default_fold)\n",
    "        pr_all.index = shrinkage\n",
    "        #loop through all the possible shrinkage values\n",
    "        for l in shrinkage:\n",
    "            #split into n-fold\n",
    "            kf = KFold(n_splits = n_fold)\n",
    "            ii = -1\n",
    "            for train, test in kf.split(datac):\n",
    "                ii = ii + 1\n",
    "                 #get the training set\n",
    "                X_train = datac.loc[train]\n",
    "                #calculate the sample covariance matrix\n",
    "                sample = np.cov(X_train,rowvar = False)\n",
    "                ##next get the Ledoit-Wolf covariance matrix using the shriankgage \n",
    "                lw = np.multiply(sample,l) + np.multiply((1.0-l),np.identity(30))\n",
    "                ##calculate the omega matrix\n",
    "                omega = np.linalg.inv(lw)\n",
    "                ##calculate the predictive risk\n",
    "                ##Also first centralize the test data\n",
    "                X_test = datac.loc[test]\n",
    "                omega_diag_inv = np.diag(1/np.diag(omega)) #np.linalg.inv(omega_diag)\n",
    "                #This calculates the quantity inside the norm\n",
    "                m = np.matmul(X_test,np.matmul(omega,omega_diag_inv)) \n",
    "                #calculate the predictive risk\n",
    "                pr_all.loc[l][ii] = (np.linalg.norm(m,2))**2/len(test)\n",
    "                #This gives the best shrinkage value after the cross-validation\n",
    "        best_shrinkage = np.argmin(pr_all.mean(axis = 1)) \n",
    "        actual_sample = np.cov(datac,rowvar = False)\n",
    "        lw = np.multiply(actual_sample,best_shrinkage) + np.multiply((1.0-best_shrinkage),np.identity(30))\n",
    "        ##Using the best shrinkage to get the Ledoit-Wolf covariance matrix\n",
    "        final_lw = np.matmul(np.matmul(np.diag(sdv), lw), np.diag(sdv))\n",
    "        return final_lw, best_shrinkage\n",
    "\n",
    "#     def Ledoit_wolf_cv(self, data,n_fold=5,alpha_num=50):\n",
    "#         #The space between each fold\n",
    "#         z = 1.0/alpha_num\n",
    "#         shrinkage = np.arange(0,1,z)\n",
    "#         #create a dictionary with lambda as keys and their predictive risk as values\n",
    "#         #set the initial predictive risk to be 1\n",
    "#         shrinkage_dict = dict((el,0) for el in shrinkage)\n",
    "#         #loop through all the possible shrinkage values\n",
    "#         for l in shrinkage:\n",
    "#             #split into n-fold\n",
    "#             kf = KFold(n_splits = n_fold)\n",
    "#             #initialize the predictive risk\n",
    "#             pr_total = 0\n",
    "#             for train, test in kf.split(data):\n",
    "#                  #get the training set\n",
    "#                 X_train = data.iloc[train]\n",
    "#                 #calculate the sample covariance matrix\n",
    "#                 sample = np.cov(X_train,rowvar = False)\n",
    "#                 ##next get the Ledoit-Wolf covariance matrix using the shriankgage \n",
    "#                 lw = np.multiply(sample,l) + np.multiply((1.0-l),np.identity(30))\n",
    "#                 ##calculate the omega matrix\n",
    "#                 omega = np.linalg.inv(lw)\n",
    "#                 ##calculate the predictive risk\n",
    "#                 ##Also first centralize the test data\n",
    "#                 X_test = data.iloc[test]\n",
    "#                 X_test_central = X_test.sub(X_test.mean(axis=0), axis=1)\n",
    "#                 X_test_central = np.asmatrix(X_test_central)\n",
    "#                 omega_diag = np.diag(np.diag(omega))\n",
    "#                 omega_diag_inv = np.linalg.inv(omega_diag)\n",
    "#                 #This calculates the quantity inside the norm\n",
    "#                 z = np.matmul(omega,omega_diag_inv)\n",
    "#                 m = np.matmul(X_test_central,z) \n",
    "#                 #calculate the predictive risk\n",
    "#                 pr = (np.linalg.norm(m,2))**2/len(test)\n",
    "#                 pr_total += pr\n",
    "#             shrinkage_dict[l] = pr_total\n",
    "#         #This gives the best shrinkage value after the cross-validation\n",
    "#         best_shrinkage = min(shrinkage_dict, key=shrinkage_dict.get) \n",
    "#         actual_sample = np.cov(data,rowvar = False)\n",
    "#         ##Using the best shrinkage to get the Ledoit-Wolf covariance matrix\n",
    "#         return np.multiply(actual_sample,best_shrinkage) + np.multiply((1.0-best_shrinkage),np.identity(30)), best_shrinkage\n",
    "\n",
    "\n",
    "    #Graph Lasso Function\n",
    "    def graphlasso_cv(self, data,alpha_num = 25,n_fold=5):\n",
    "        datac = pd.DataFrame(scale(data, axis = 0, with_mean = True, with_std = True, copy = True))\n",
    "        sdv = data.std(axis = 0)\n",
    "        alpha = np.arange(0, 0.5, 0.5/alpha_num)\n",
    "        \n",
    "        default_fold ={'fold1':np.zeros(len(alpha))}\n",
    "        for ticker in range(n_fold):\n",
    "            default_fold.update({str('fold'+str(ticker+1)): np.zeros(len(alpha))})\n",
    "        pr_all  =pd.DataFrame(default_fold)\n",
    "        pr_all.index = alpha\n",
    "        \n",
    "        for l in alpha:\n",
    "            #split into n-fold\n",
    "            kf = KFold(n_splits = n_fold)\n",
    "            #initialize the predictive risk\n",
    "            ii = -1\n",
    "            for train, test in kf.split(datac):\n",
    "                ii = ii + 1\n",
    "                x_train = datac.iloc[train]\n",
    "                x_test = datac.iloc[test]\n",
    "                ##next get the Graph Lasso covariance matrix using the shriankgage \n",
    "                model = GraphLasso(l)\n",
    "                #print(x_train.shape)\n",
    "                model.fit(x_train)\n",
    "                omega = model.precision_\n",
    "                ##calculate the predictive risk\n",
    "                omega_diag = np.diag(np.diag(omega))\n",
    "                omega_diag_inv = np.diag(1/np.diag(omega))\n",
    "                #This calculates the quantity inside the norm\n",
    "                z = np.matmul(omega,omega_diag_inv)\n",
    "                m = np.matmul(x_test,z) \n",
    "                #calculate the predictive risk\n",
    "                pr = (np.linalg.norm(m,2))**2/x_test.shape[0]\n",
    "                pr_all.loc[l][ii] = pr\n",
    "        #This gives the best alpha value after the cross-validation\n",
    "        best_alpha = np.argmin(pr_all.mean(axis = 1))\n",
    "        model = GraphLasso(best_alpha)\n",
    "        model.fit(datac)\n",
    "        omega = np.matmul(np.matmul(np.diag(1/sdv), model.precision_), np.diag(1/sdv))\n",
    "        return omega, best_alpha\n",
    "\n",
    "    \n",
    "    def optimal_solution(self, stock_data_partition, covariance_method = 'sample', inverse = False):\n",
    "        def mat_mults(*args):\n",
    "            if(len(args)==1):\n",
    "                return args[0]\n",
    "            else:\n",
    "                    return np.matmul(args[0],mat_mults(*args[1:]))\n",
    "        logret = np.log(stock_data_partition).diff()\n",
    "        if (self.covariance_method == 'sample'):\n",
    "            sigma = logret.cov()\n",
    "            ##Next let us calculate the weights\n",
    "            one_vec = np.asmatrix(np.ones(len(self.selected_companies_names)))\n",
    "            ##Based on the optimal solution formula\n",
    "            sigma_inv = np.linalg.inv(sigma)\n",
    "            one_tp = np.transpose(one_vec)\n",
    "            p = np.matmul(sigma_inv,one_tp)\n",
    "            q = (np.matmul(one_vec,np.matmul(sigma_inv,one_tp)))\n",
    "            weight = np.multiply(1.0/float(q),p)\n",
    "            \n",
    "#             mu = logret[1:].mean()\n",
    "#             sigma = logret.cov()\n",
    "#             s, _ = sigma.shape\n",
    "#             w = cvx.Variable(s)# the length of w is x\n",
    "#             risk = cvx.quad_form(w, sigma.as_matrix())\n",
    "#             prob = cvx.Problem(cvx.Minimize(risk),\n",
    "#                                [cvx.sum_entries(w) == 1])\n",
    "#             prob.solve()\n",
    "            return weight\n",
    "        \n",
    "        if (self.covariance_method == 'lw'):\n",
    "            sigma, lam =  self.Ledoit_wolf_cv(logret[1:],self.n_fold,self.alpha_num)\n",
    "            ##Next let us calculate the weights\n",
    "            one_vec = np.asmatrix(np.ones(len(self.selected_companies_names)))\n",
    "            ##Based on the optimal solution formula\n",
    "            sigma_inv = np.linalg.inv(sigma)\n",
    "            one_tp = np.transpose(one_vec)\n",
    "            p = np.matmul(sigma_inv,one_tp)\n",
    "            q = (np.matmul(one_vec,np.matmul(sigma_inv,one_tp)))\n",
    "            weight = np.multiply(1.0/float(q),p)\n",
    "            return weight\n",
    "\n",
    "        if (self.covariance_method == 'gl'):\n",
    "            sigma_inv, best_beta =  self.graphlasso_cv(logret[1:],self.alpha_num,self.n_fold)\n",
    "            ##Next let us calculate the weights\n",
    "            one_vec = np.asmatrix(np.ones(len(self.selected_companies_names)))\n",
    "            ##Based on the optimal solution formula\n",
    "            one_tp = np.transpose(one_vec)\n",
    "            p = np.matmul(sigma_inv,one_tp)\n",
    "            q = (np.matmul(one_vec,np.matmul(sigma_inv,one_tp)))\n",
    "            weight = np.multiply(1.0/float(q),p)\n",
    "            return weight\n",
    "\n",
    "        \n",
    "    #### Postcondition: calculate all w ##############\n",
    "    def Optimization_At_Each_Period(self):\n",
    "        w=[]\n",
    "        for current_period_num in range(int(np.floor( (len(self.stock_data)/self.days_of_period) ))):\n",
    "            if current_period_num==0:\n",
    "                stock_data_partition = self.stock_data[current_period_num*self.days_of_period:(current_period_num+1)*self.days_of_period].copy()\n",
    "            else:\n",
    "                stock_data_partition = self.stock_data[(current_period_num*self.days_of_period-1):(current_period_num+1)*self.days_of_period].copy()\n",
    "            w.append(self.optimal_solution(stock_data_partition))\n",
    "        return np.column_stack(w)\n",
    "\n",
    "    \n",
    "    ################## Split all returns by chunk #####################\n",
    "    def return_over_time(self):\n",
    "        re=[]\n",
    "        for current_period_num in range(int(np.floor( (len(self.stock_data)/self.days_of_period) ))):\n",
    "            after = self.stock_data[(self.days_of_period*current_period_num+1):(self.days_of_period*(current_period_num+1)+1)]\n",
    "            before = self.stock_data[(self.days_of_period*current_period_num):(self.days_of_period*(current_period_num+1))]\n",
    "            tmp = np.log(np.array(after)/np.array(before))\n",
    "            tmp = pd.DataFrame(tmp,columns = after.columns)\n",
    "            re.append(tmp)\n",
    "\n",
    "        if len(self.stock_data)/self.days_of_period-int(len(self.stock_data)/self.days_of_period)==0:\n",
    "            return re\n",
    "        else:\n",
    "            # print (\"Last Trading Period Not Finished\")\n",
    "            last_start=int(np.floor( (len(self.stock_data)/self.days_of_period) ))*self.days_of_period\n",
    "            last_end=len(self.stock_data)-1\n",
    "            before = self.stock_data[(last_start-1):(last_end-1)]\n",
    "            after = self.stock_data[last_start:last_end]\n",
    "            tmp = np.log(np.array(after)/np.array(before))\n",
    "            tmp = pd.DataFrame(tmp,columns = after.columns)\n",
    "            re.append(tmp)\n",
    "            return re\n",
    "        \n",
    "        \n",
    "    ################## Generate interval for re-balancing ####################\n",
    "    def generate_interval(self):\n",
    "\n",
    "        n = self.days_of_period\n",
    "        starn = np.asscalar(np.where(self.stock_data.index == self.start)[0])\n",
    "\n",
    "        invs = pd.Series(np.arange(starn, self.stock_data.shape[0], n))\n",
    "        inve = pd.Series(np.arange(starn+n-1, self.stock_data.shape[0], n))\n",
    "        inve[len(inve)] = self.stock_data.shape[0]\n",
    "        este = invs - 1\n",
    "        ests = invs - n\n",
    "        interval = pd.DataFrame({'es':ests, 'ee':este, 'is':invs, 'ie':inve}).astype('int')\n",
    "        self.interval = interval\n",
    "        return interval\n",
    "\n",
    "    \n",
    "    ################## Calculate daily return of a portfolio #################\n",
    "    def Realized_Return(self):\n",
    "\n",
    "        interval = self.generate_interval()\n",
    "\n",
    "        data = self.stock_data[interval.loc[0,'es']:interval.loc[interval.shape[0]-1,'ie']]\n",
    "        Mat_return_over_time = self.return_over_time()  # return dataframe by chunks\n",
    "        Total_time = self.Mat_Optimization_At_Each_Period.shape[1]  # Number of periods\n",
    "        ss = self.shortsize()  # Size of short side\n",
    "        daily_r = pd.DataFrame()\n",
    "        for t in range(Total_time):\n",
    "            tmp = pd.DataFrame(np.matmul(Mat_return_over_time[t + 1], self.Mat_Optimization_At_Each_Period[:,t]))\n",
    "            daily_r  = pd.concat([daily_r, tmp])\n",
    "            self.daily_r = daily_r\n",
    "        index_num = daily_r.shape[0]\n",
    "        daily_r.index =  list(self.stock_data.index)[-index_num:]\n",
    "        return daily_r\n",
    "\n",
    "    \n",
    "    ################# Calculate short size for all periods #################\n",
    "    def shortsize(self):\n",
    "        ss = np.empty(self.Mat_Optimization_At_Each_Period.shape[1])  # take number of columns (number of periods)\n",
    "        upper = np.empty(self.Mat_Optimization_At_Each_Period.shape[1])\n",
    "        for i in range(self.Mat_Optimization_At_Each_Period.shape[1]):\n",
    "            absw = np.array([np.min(np.array([np.asscalar(j),0])) for j in self.Mat_Optimization_At_Each_Period[:,i]])\n",
    "            upper[i] = np.sum(np.abs(absw))\n",
    "            ss[i] = upper[i] / np.sum(np.abs(self.Mat_Optimization_At_Each_Period[:,i]))\n",
    "            self.upper = upper\n",
    "            self.ss=ss\n",
    "        return ss, upper\n",
    "\n",
    "    \n",
    "    ################# Calculate turnover rate for all periods ###############\n",
    "    def turnover(self):\n",
    "        interval = self.generate_interval()  # Interval\n",
    "        Mat_return_over_time = self.return_over_time()  # return dataframe by chunks\n",
    "\n",
    "        TO = np.empty(interval.shape[0])\n",
    "        for i in range(interval.shape[0]):\n",
    "            if(i == 0):\n",
    "                wold = np.zeros(self.stock_data.shape[1])\n",
    "            else:\n",
    "                wold = np.array([j[0] for j in np.asarray(self.Mat_Optimization_At_Each_Period[:,i-1])])\n",
    "            wnew = np.array([j[0] for j in np.asarray(self.Mat_Optimization_At_Each_Period[:,i])])\n",
    "            TO[i] = np.sum(np.abs(wnew - np.multiply.accumulate(Mat_return_over_time[0] + 1, axis = 0).iloc[-1] * wold))\n",
    "        self.TO = TO\n",
    "        return TO\n",
    "\n",
    "    \n",
    "    ################## Calculate daily wealth of a portfolio  ################\n",
    "    # borr_cost is daily rate\n",
    "    def Port_Wealth(self, trans_cost = 0, borr_cost = 0,init = 1):\n",
    "        \n",
    "        if hasattr(self, 'trans_cost'):\n",
    "            trans_cost=self.trans_cost\n",
    "        if hasattr(self, 'borr_cost'):\n",
    "            borr_cost=self.borr_cost\n",
    "        \n",
    "              \n",
    "        daily_r = self.Realized_Return()\n",
    "        TO = self.turnover()\n",
    "        ss, upper = self.shortsize()\n",
    "        interval = self.generate_interval()\n",
    "        \n",
    "        ptf_r = daily_r.copy()\n",
    "        invs = interval[\"is\"] - interval['is'][0]\n",
    "        n = interval['ee'][0] - interval['es'][0] + 1\n",
    "        for k in range(interval.shape[0]):\n",
    "            ptf_r.iloc[invs[k]] = ptf_r.iloc[invs[k]] - TO[k] * trans_cost - upper[k] * (math.pow(1 + borr_cost, n) - 1)\n",
    "        ptf_w = init * np.multiply.accumulate(ptf_r + 1)\n",
    "        index_num = ptf_w.shape[0]\n",
    "        ptf_w.index =  list(self.stock_data.index)[-index_num:]\n",
    "        return ptf_w"
   ]
  },
  {
   "cell_type": "code",
   "execution_count": 8,
   "metadata": {},
   "outputs": [],
   "source": [
    "ticket = ['MMM','AXP','AAPL','BA','CAT','CVX','CSCO','KO','DIS','D','XOM','GE','GS','HD','IBM',\n",
    "          'INTC','JNJ','JPM','MCD','MRK','MSFT','NKE','PFE','PG','TRV','UTX','UNH','VZ','V','WMT']\n",
    "L = np.array([250, 200, 150, 100])\n",
    "method = ['sample','lw','gl']"
   ]
  },
  {
   "cell_type": "code",
   "execution_count": 9,
   "metadata": {},
   "outputs": [
    {
     "name": "stdout",
     "output_type": "stream",
     "text": [
      "sample 250\n",
      "sample 200\n",
      "sample 150\n",
      "sample 100\n",
      "lw 250\n",
      "lw 200\n",
      "lw 150\n",
      "lw 100\n",
      "gl 250\n",
      "gl 200\n",
      "gl 150\n",
      "gl 100\n",
      "Congradulations! It is done!\n"
     ]
    }
   ],
   "source": [
    "res = {}\n",
    "for mtd in method:\n",
    "    for i in L:\n",
    "        print(mtd+\" \"+str(i))\n",
    "        name = mtd+str(i)\n",
    "        res[name] = portfolio_optimization(\"./closing_price_5yr.pkl\",ticket, i,'2014-05-21',\n",
    "                                           covariance_method=mtd, n_fold=5, alpha_num = 10,\n",
    "                                          trans_cost = 0.0001, borr_cost = 0.0000273973)\n",
    "print(\"Congradulations! It is done!\")"
   ]
  },
  {
   "cell_type": "markdown",
   "metadata": {},
   "source": [
    "## Portfolio performance measurement\n",
    "### 1. Portfolio wealth growth\n",
    "\n",
    "We assume that the transaction cost $r_c = 0.01\\%$, the daily borrowing cost is $r_b = 0.027\\%$. Then the normalized wealth trajectories are"
   ]
  },
  {
   "cell_type": "code",
   "execution_count": 18,
   "metadata": {},
   "outputs": [],
   "source": [
    "import matplotlib"
   ]
  },
  {
   "cell_type": "code",
   "execution_count": 19,
   "metadata": {
    "scrolled": true
   },
   "outputs": [
    {
     "data": {
      "image/png": "[encoded data removed]",
      "text/plain": [
       "<matplotlib.figure.Figure at 0x7f39035ae208>"
      ]
     },
     "metadata": {},
     "output_type": "display_data"
    }
   ],
   "source": [
    "%matplotlib inline\n",
    "import matplotlib.pyplot as plt\n",
    "import seaborn as sns\n",
    "\n",
    "\n",
    "plt.figure(figsize=(8,8))\n",
    "res['sample100'].Port_Wealth().iloc[:,0].plot(label  = 'sample')\n",
    "res['lw100'].Port_Wealth().iloc[:,0].plot(label = 'Ledoit-Wolf')\n",
    "res['gl100'].Port_Wealth().iloc[:,0].plot(label = 'Graphical lasso')\n",
    "leg = plt.legend()\n",
    "plt.title(\"n = 100\")\n",
    "\n",
    "plt.ylim(0.8, 1.6)\n",
    "plt.savefig('n100.pdf', format='pdf')\n",
    "\n",
    "#plt.show()\n",
    "\n"
   ]
  },
  {
   "cell_type": "markdown",
   "metadata": {},
   "source": [
    "### 2. Annualized realized return\n",
    "\n",
    "The anualized realized return of the portolio is shown in percentage."
   ]
  },
  {
   "cell_type": "code",
   "execution_count": 20,
   "metadata": {},
   "outputs": [
    {
     "data": {
      "text/html": [
       "<div>\n",
       "<table border=\"1\" class=\"dataframe\">\n",
       "  <thead>\n",
       "    <tr style=\"text-align: right;\">\n",
       "      <th></th>\n",
       "      <th>sample</th>\n",
       "      <th>lw</th>\n",
       "      <th>gl</th>\n",
       "    </tr>\n",
       "  </thead>\n",
       "  <tbody>\n",
       "    <tr>\n",
       "      <th>250</th>\n",
       "      <td>5.93</td>\n",
       "      <td>6.71</td>\n",
       "      <td>7.07</td>\n",
       "    </tr>\n",
       "    <tr>\n",
       "      <th>200</th>\n",
       "      <td>8.47</td>\n",
       "      <td>7.73</td>\n",
       "      <td>7.76</td>\n",
       "    </tr>\n",
       "    <tr>\n",
       "      <th>150</th>\n",
       "      <td>5.32</td>\n",
       "      <td>7.33</td>\n",
       "      <td>7.60</td>\n",
       "    </tr>\n",
       "    <tr>\n",
       "      <th>100</th>\n",
       "      <td>7.22</td>\n",
       "      <td>8.90</td>\n",
       "      <td>9.30</td>\n",
       "    </tr>\n",
       "  </tbody>\n",
       "</table>\n",
       "</div>"
      ],
      "text/plain": [
       "     sample    lw    gl\n",
       "250    5.93  6.71  7.07\n",
       "200    8.47  7.73  7.76\n",
       "150    5.32  7.33  7.60\n",
       "100    7.22  8.90  9.30"
      ]
     },
     "execution_count": 20,
     "metadata": {},
     "output_type": "execute_result"
    }
   ],
   "source": [
    "#Realized Return\n",
    "df_return = pd.DataFrame(np.zeros((len(L),len(method))),index = L, columns = method,dtype = 'float64')\n",
    "for mtd in method:\n",
    "    for j in L:\n",
    "        name = mtd+str(j)\n",
    "        df_return.loc[j,mtd] = 252 * np.mean(res[name].Realized_Return()[0])\n",
    "round(df_return*100,2)"
   ]
  },
  {
   "cell_type": "code",
   "execution_count": 21,
   "metadata": {},
   "outputs": [
    {
     "data": {
      "image/png": "[encoded data removed]",
      "text/plain": [
       "<matplotlib.figure.Figure at 0x7f390291d0b8>"
      ]
     },
     "metadata": {},
     "output_type": "display_data"
    }
   ],
   "source": [
    "import matplotlib.pyplot as plt\n",
    "from matplotlib import pylab\n",
    "ax = df_return.plot(kind='bar', title='Realized Return (%)', \n",
    "        figsize=(7,5), rot = 0, color = ['b', 'g', 'r'], fontsize = 10)\n",
    "for p in ax.patches:\n",
    "    ax.annotate(str(round(p.get_height()*100,2))+'%', (p.get_x() * 0.975, p.get_height() * 1.01))  \n",
    "ax.set_xlabel(\"Estimation Horizon L\", fontsize = 10)\n",
    "pylab.legend(loc=9, bbox_to_anchor=(1.1, 0.95))\n",
    "ax.set_ylim(ymin = 0.0,ymax = 0.120)\n",
    "\n",
    "plt.savefig('realized_return.pdf', format='pdf')"
   ]
  },
  {
   "cell_type": "markdown",
   "metadata": {},
   "source": [
    "### 3. Annualized realized risk\n",
    "\n",
    "The annualized realized risk is shown in percentage."
   ]
  },
  {
   "cell_type": "code",
   "execution_count": 22,
   "metadata": {
    "scrolled": true
   },
   "outputs": [
    {
     "data": {
      "text/html": [
       "<div>\n",
       "<table border=\"1\" class=\"dataframe\">\n",
       "  <thead>\n",
       "    <tr style=\"text-align: right;\">\n",
       "      <th></th>\n",
       "      <th>sample</th>\n",
       "      <th>lw</th>\n",
       "      <th>gl</th>\n",
       "    </tr>\n",
       "  </thead>\n",
       "  <tbody>\n",
       "    <tr>\n",
       "      <th>250</th>\n",
       "      <td>11.98</td>\n",
       "      <td>11.20</td>\n",
       "      <td>11.35</td>\n",
       "    </tr>\n",
       "    <tr>\n",
       "      <th>200</th>\n",
       "      <td>11.73</td>\n",
       "      <td>10.97</td>\n",
       "      <td>11.08</td>\n",
       "    </tr>\n",
       "    <tr>\n",
       "      <th>150</th>\n",
       "      <td>12.03</td>\n",
       "      <td>11.14</td>\n",
       "      <td>11.40</td>\n",
       "    </tr>\n",
       "    <tr>\n",
       "      <th>100</th>\n",
       "      <td>12.76</td>\n",
       "      <td>11.04</td>\n",
       "      <td>11.19</td>\n",
       "    </tr>\n",
       "  </tbody>\n",
       "</table>\n",
       "</div>"
      ],
      "text/plain": [
       "     sample     lw     gl\n",
       "250   11.98  11.20  11.35\n",
       "200   11.73  10.97  11.08\n",
       "150   12.03  11.14  11.40\n",
       "100   12.76  11.04  11.19"
      ]
     },
     "execution_count": 22,
     "metadata": {},
     "output_type": "execute_result"
    }
   ],
   "source": [
    "#Realized risk\n",
    "df_risk = pd.DataFrame(np.zeros((len(L),len(method))),index = L, columns = method,dtype = 'float64')\n",
    "for mtd in method:\n",
    "    for j in L:\n",
    "        name = mtd+str(j)\n",
    "        df_risk.loc[j,mtd] = np.sqrt(252) * np.std(res[name].Realized_Return()[0])\n",
    "round(df_risk*100,2)"
   ]
  },
  {
   "cell_type": "code",
   "execution_count": 23,
   "metadata": {},
   "outputs": [
    {
     "data": {
      "image/png": "[encoded data removed]",
      "text/plain": [
       "<matplotlib.figure.Figure at 0x7f3902996ac8>"
      ]
     },
     "metadata": {},
     "output_type": "display_data"
    }
   ],
   "source": [
    "ax = df_risk.plot(kind='bar', title='Realized risk (%)', \n",
    "        figsize=(7,5), rot = 0, color = ['b', 'g', 'r'], fontsize = 10)\n",
    "for p in ax.patches:\n",
    "    ax.annotate(str(round(p.get_height()*100,2))+'%', (p.get_x() * 0.975, p.get_height() * 1.02))  \n",
    "ax.set_xlabel(\"Estimation Horizon L\", fontsize = 10)\n",
    "pylab.legend(loc=9, bbox_to_anchor=(1.1, 0.95))\n",
    "ax.set_ylim(ymin = 0.1,ymax = 0.135)\n",
    "\n",
    "plt.savefig('realized_risk.pdf', format='pdf')"
   ]
  },
  {
   "cell_type": "markdown",
   "metadata": {},
   "source": [
    "### 4. Realized Sharpe ratio\n",
    " We assume that the annualized risk-free interest rate is $2%$."
   ]
  },
  {
   "cell_type": "code",
   "execution_count": 24,
   "metadata": {},
   "outputs": [
    {
     "data": {
      "text/html": [
       "<div>\n",
       "<table border=\"1\" class=\"dataframe\">\n",
       "  <thead>\n",
       "    <tr style=\"text-align: right;\">\n",
       "      <th></th>\n",
       "      <th>sample</th>\n",
       "      <th>lw</th>\n",
       "      <th>gl</th>\n",
       "    </tr>\n",
       "  </thead>\n",
       "  <tbody>\n",
       "    <tr>\n",
       "      <th>250</th>\n",
       "      <td>0.411</td>\n",
       "      <td>0.509</td>\n",
       "      <td>0.535</td>\n",
       "    </tr>\n",
       "    <tr>\n",
       "      <th>200</th>\n",
       "      <td>0.637</td>\n",
       "      <td>0.613</td>\n",
       "      <td>0.610</td>\n",
       "    </tr>\n",
       "    <tr>\n",
       "      <th>150</th>\n",
       "      <td>0.359</td>\n",
       "      <td>0.568</td>\n",
       "      <td>0.579</td>\n",
       "    </tr>\n",
       "    <tr>\n",
       "      <th>100</th>\n",
       "      <td>0.487</td>\n",
       "      <td>0.715</td>\n",
       "      <td>0.742</td>\n",
       "    </tr>\n",
       "  </tbody>\n",
       "</table>\n",
       "</div>"
      ],
      "text/plain": [
       "     sample     lw     gl\n",
       "250   0.411  0.509  0.535\n",
       "200   0.637  0.613  0.610\n",
       "150   0.359  0.568  0.579\n",
       "100   0.487  0.715  0.742"
      ]
     },
     "execution_count": 24,
     "metadata": {},
     "output_type": "execute_result"
    }
   ],
   "source": [
    "df_sp = (df_return - 0.01) / df_risk\n",
    "round(df_sp,3)"
   ]
  },
  {
   "cell_type": "code",
   "execution_count": 25,
   "metadata": {},
   "outputs": [
    {
     "data": {
      "image/png": "[encoded data removed]",
      "text/plain": [
       "<matplotlib.figure.Figure at 0x7f390297ae10>"
      ]
     },
     "metadata": {},
     "output_type": "display_data"
    }
   ],
   "source": [
    "ax = df_sp.plot(kind='bar', title='Realized Sharpe ratio', \n",
    "        figsize=(7,5), rot = 0, color = ['b', 'g', 'r'], fontsize = 10)\n",
    "for p in ax.patches:\n",
    "    ax.annotate(str(round(p.get_height(),2)), (p.get_x() * 0.975, p.get_height() * 1.02))  \n",
    "ax.set_xlabel(\"Estimation Horizon L\", fontsize = 10)\n",
    "pylab.legend(loc=9, bbox_to_anchor=(1.1, 0.95))\n",
    "ax.set_ylim(ymin = 0.0,ymax = 1)\n",
    "\n",
    "plt.savefig('realized_sharpe_ratio.pdf', format='pdf')"
   ]
  },
  {
   "cell_type": "markdown",
   "metadata": {},
   "source": [
    "### 5. Turnover"
   ]
  },
  {
   "cell_type": "code",
   "execution_count": 26,
   "metadata": {
    "scrolled": true
   },
   "outputs": [
    {
     "data": {
      "text/html": [
       "<div>\n",
       "<table border=\"1\" class=\"dataframe\">\n",
       "  <thead>\n",
       "    <tr style=\"text-align: right;\">\n",
       "      <th></th>\n",
       "      <th>sample</th>\n",
       "      <th>lw</th>\n",
       "      <th>gl</th>\n",
       "    </tr>\n",
       "  </thead>\n",
       "  <tbody>\n",
       "    <tr>\n",
       "      <th>250</th>\n",
       "      <td>2.372</td>\n",
       "      <td>0.985</td>\n",
       "      <td>1.393</td>\n",
       "    </tr>\n",
       "    <tr>\n",
       "      <th>200</th>\n",
       "      <td>2.344</td>\n",
       "      <td>0.941</td>\n",
       "      <td>1.436</td>\n",
       "    </tr>\n",
       "    <tr>\n",
       "      <th>150</th>\n",
       "      <td>2.503</td>\n",
       "      <td>0.868</td>\n",
       "      <td>1.433</td>\n",
       "    </tr>\n",
       "    <tr>\n",
       "      <th>100</th>\n",
       "      <td>3.137</td>\n",
       "      <td>0.872</td>\n",
       "      <td>1.393</td>\n",
       "    </tr>\n",
       "  </tbody>\n",
       "</table>\n",
       "</div>"
      ],
      "text/plain": [
       "     sample     lw     gl\n",
       "250   2.372  0.985  1.393\n",
       "200   2.344  0.941  1.436\n",
       "150   2.503  0.868  1.433\n",
       "100   3.137  0.872  1.393"
      ]
     },
     "execution_count": 26,
     "metadata": {},
     "output_type": "execute_result"
    }
   ],
   "source": [
    "# Turnover\n",
    "df_to = pd.DataFrame(np.zeros((len(L),len(method))),index = L, columns = method,dtype = 'float64')\n",
    "for mtd in method:\n",
    "    for j in L:\n",
    "        name = mtd+str(j)\n",
    "        df_to.loc[j,mtd] = np.mean(res[name].turnover())\n",
    "round(df_to,3)"
   ]
  },
  {
   "cell_type": "code",
   "execution_count": 27,
   "metadata": {},
   "outputs": [
    {
     "data": {
      "image/png": "[encoded data removed]",
      "text/plain": [
       "<matplotlib.figure.Figure at 0x7f3903a902b0>"
      ]
     },
     "metadata": {},
     "output_type": "display_data"
    }
   ],
   "source": [
    "ax = df_to.plot(kind='bar', title='Turnover', \n",
    "        figsize=(7,5), rot = 0, color = ['b', 'g', 'r'], fontsize = 10)\n",
    "for p in ax.patches:\n",
    "    ax.annotate(str(round(p.get_height(),2)), (p.get_x() * 0.975, p.get_height() * 1.02))  \n",
    "ax.set_xlabel(\"Estimation Horizon L\", fontsize = 10)\n",
    "pylab.legend(loc=9, bbox_to_anchor=(1.1, 0.95))\n",
    "ax.set_ylim(ymin = 0.0,ymax = 4)\n",
    "\n",
    "\n",
    "plt.savefig('Turnover.pdf', format='pdf')"
   ]
  },
  {
   "cell_type": "markdown",
   "metadata": {},
   "source": [
    "### 6. Size of short side\n",
    "\n",
    "Size of short side is shown in percentage."
   ]
  },
  {
   "cell_type": "code",
   "execution_count": 28,
   "metadata": {
    "scrolled": true
   },
   "outputs": [
    {
     "data": {
      "text/html": [
       "<div>\n",
       "<table border=\"1\" class=\"dataframe\">\n",
       "  <thead>\n",
       "    <tr style=\"text-align: right;\">\n",
       "      <th></th>\n",
       "      <th>sample</th>\n",
       "      <th>lw</th>\n",
       "      <th>gl</th>\n",
       "    </tr>\n",
       "  </thead>\n",
       "  <tbody>\n",
       "    <tr>\n",
       "      <th>250</th>\n",
       "      <td>23.88</td>\n",
       "      <td>4.54</td>\n",
       "      <td>12.60</td>\n",
       "    </tr>\n",
       "    <tr>\n",
       "      <th>200</th>\n",
       "      <td>24.63</td>\n",
       "      <td>5.88</td>\n",
       "      <td>14.51</td>\n",
       "    </tr>\n",
       "    <tr>\n",
       "      <th>150</th>\n",
       "      <td>24.56</td>\n",
       "      <td>3.55</td>\n",
       "      <td>13.02</td>\n",
       "    </tr>\n",
       "    <tr>\n",
       "      <th>100</th>\n",
       "      <td>29.59</td>\n",
       "      <td>4.98</td>\n",
       "      <td>13.31</td>\n",
       "    </tr>\n",
       "  </tbody>\n",
       "</table>\n",
       "</div>"
      ],
      "text/plain": [
       "     sample    lw     gl\n",
       "250   23.88  4.54  12.60\n",
       "200   24.63  5.88  14.51\n",
       "150   24.56  3.55  13.02\n",
       "100   29.59  4.98  13.31"
      ]
     },
     "execution_count": 28,
     "metadata": {},
     "output_type": "execute_result"
    }
   ],
   "source": [
    "# Short size\n",
    "df_ss = pd.DataFrame(np.zeros((len(L),len(method))),index = L, columns = method,dtype = 'float64')\n",
    "for mtd in method:\n",
    "    for j in L:\n",
    "        name = mtd+str(j)\n",
    "        df_ss.loc[j,mtd] = np.mean(res[name].shortsize()[0])\n",
    "round(df_ss*100,2)"
   ]
  },
  {
   "cell_type": "code",
   "execution_count": 29,
   "metadata": {},
   "outputs": [
    {
     "data": {
      "image/png": "[encoded data removed]",
      "text/plain": [
       "<matplotlib.figure.Figure at 0x7f3903a909e8>"
      ]
     },
     "metadata": {},
     "output_type": "display_data"
    }
   ],
   "source": [
    "ax = (df_ss*100).plot(kind='bar', title='Short size (%)', \n",
    "        figsize=(7,5), rot = 0, color = ['b', 'g', 'r'], fontsize = 10)\n",
    "for p in ax.patches:\n",
    "    ax.annotate(str(round(p.get_height(),2)), (p.get_x() * 0.975, p.get_height() * 1.02))  \n",
    "ax.set_xlabel(\"Estimation Horizon L\", fontsize = 10)\n",
    "pylab.legend(loc=9, bbox_to_anchor=(1.1, 0.95))\n",
    "ax.set_ylim(ymin = 0.0,ymax = 40)\n",
    "\n",
    "plt.savefig('Short_size.pdf', format='pdf')"
   ]
  },
  {
   "cell_type": "markdown",
   "metadata": {},
   "source": [
    "## Reference\n",
    "\n",
    "[1] H. Markowitz, Portfolio selection. 1952, The Journal of Finance, Vol. 7, No. 1, pp.77-91.\n",
    "\n",
    "[2] K. Khare, S. Oh, and B. Rajaratnam, A convex pseudolikelihood framework for high dimensional pratial correlation estimation with convergence guarantees. 2015, Journal of the Royal Statistical Society: Series B (Statistical Methodology), Vol. 77, No. 4, pp. 803-825.\n",
    "\n",
    "[3] O. Ledoit and M. Wolf, Honey, I shrunk the sample covariance matrix. 2004, The Journal of Portfolio Management, Vol. 30, No. 4, pp. 110-119.\n",
    "\n",
    "[4] J. Friedman, T. Hastie, and R. Tibshirani, Sparse inverse covariance estimation with the graphical LASSO. 2008, Biostatistics, Vol. 9, No. 8, pp. 432-441.\n",
    "\n",
    "[5] M. Chiu, C. Pun, and H.Y. Wong, Big data challenges of high-dimensional continuous-time mean-variance portfolio selection and a remedy. 2017. Risk analysis, Vol. 37, No. 8, pp. 1532-1549."
   ]
  },
  {
   "cell_type": "code",
   "execution_count": null,
   "metadata": {},
   "outputs": [],
   "source": []
  },
  {
   "cell_type": "code",
   "execution_count": null,
   "metadata": {},
   "outputs": [],
   "source": []
  }
 ],
 "metadata": {
  "kernelspec": {
   "display_name": "Python 3",
   "language": "python",
   "name": "python3"
  },
  "language_info": {
   "codemirror_mode": {
    "name": "ipython",
    "version": 3
   },
   "file_extension": ".py",
   "mimetype": "text/x-python",
   "name": "python",
   "nbconvert_exporter": "python",
   "pygments_lexer": "ipython3",
   "version": "3.6.4"
  },
  "varInspector": {
   "cols": {
    "lenName": 16,
    "lenType": 16,
    "lenVar": 40
   },
   "kernels_config": {
    "python": {
     "delete_cmd_postfix": "",
     "delete_cmd_prefix": "del ",
     "library": "var_list.py",
     "varRefreshCmd": "print(var_dic_list())"
    },
    "r": {
     "delete_cmd_postfix": ") ",
     "delete_cmd_prefix": "rm(",
     "library": "var_list.r",
     "varRefreshCmd": "cat(var_dic_list()) "
    }
   },
   "types_to_exclude": [
    "module",
    "function",
    "builtin_function_or_method",
    "instance",
    "_Feature"
   ],
   "window_display": false
  }
 },
 "nbformat": 4,
 "nbformat_minor": 2
}
