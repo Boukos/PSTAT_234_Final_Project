{
 "cells": [
  {
   "cell_type": "code",
   "execution_count": 14,
   "metadata": {},
   "outputs": [],
   "source": [
    "import pandas as pd\n",
    "import numpy as np"
   ]
  },
  {
   "cell_type": "code",
   "execution_count": 15,
   "metadata": {},
   "outputs": [],
   "source": [
    "closing_price_data = pd.read_pickle(\"./closing_price_5yr.pkl\").dropna(axis = 1)"
   ]
  },
  {
   "cell_type": "code",
   "execution_count": 16,
   "metadata": {},
   "outputs": [],
   "source": [
    "stock_names = closing_price_data.keys()"
   ]
  },
  {
   "cell_type": "code",
   "execution_count": 17,
   "metadata": {},
   "outputs": [
    {
     "data": {
      "text/html": [
       "<div>\n",
       "<table border=\"1\" class=\"dataframe\">\n",
       "  <thead>\n",
       "    <tr style=\"text-align: right;\">\n",
       "      <th>Name</th>\n",
       "      <th>A</th>\n",
       "      <th>AAL</th>\n",
       "      <th>AAP</th>\n",
       "      <th>AAPL</th>\n",
       "      <th>ABBV</th>\n",
       "      <th>ABC</th>\n",
       "      <th>ABT</th>\n",
       "      <th>ACN</th>\n",
       "      <th>ADBE</th>\n",
       "      <th>ADI</th>\n",
       "      <th>...</th>\n",
       "      <th>XL</th>\n",
       "      <th>XLNX</th>\n",
       "      <th>XOM</th>\n",
       "      <th>XRAY</th>\n",
       "      <th>XRX</th>\n",
       "      <th>XYL</th>\n",
       "      <th>YUM</th>\n",
       "      <th>ZBH</th>\n",
       "      <th>ZION</th>\n",
       "      <th>ZTS</th>\n",
       "    </tr>\n",
       "    <tr>\n",
       "      <th>date</th>\n",
       "      <th></th>\n",
       "      <th></th>\n",
       "      <th></th>\n",
       "      <th></th>\n",
       "      <th></th>\n",
       "      <th></th>\n",
       "      <th></th>\n",
       "      <th></th>\n",
       "      <th></th>\n",
       "      <th></th>\n",
       "      <th></th>\n",
       "      <th></th>\n",
       "      <th></th>\n",
       "      <th></th>\n",
       "      <th></th>\n",
       "      <th></th>\n",
       "      <th></th>\n",
       "      <th></th>\n",
       "      <th></th>\n",
       "      <th></th>\n",
       "      <th></th>\n",
       "    </tr>\n",
       "  </thead>\n",
       "  <tbody>\n",
       "    <tr>\n",
       "      <th>2013-05-21</th>\n",
       "      <td>31.8140</td>\n",
       "      <td>17.2883</td>\n",
       "      <td>86.3569</td>\n",
       "      <td>57.3325</td>\n",
       "      <td>39.1223</td>\n",
       "      <td>50.7079</td>\n",
       "      <td>33.8299</td>\n",
       "      <td>74.3556</td>\n",
       "      <td>44.02</td>\n",
       "      <td>40.8008</td>\n",
       "      <td>...</td>\n",
       "      <td>28.9535</td>\n",
       "      <td>34.8741</td>\n",
       "      <td>77.7614</td>\n",
       "      <td>41.1599</td>\n",
       "      <td>20.7467</td>\n",
       "      <td>26.7985</td>\n",
       "      <td>45.5818</td>\n",
       "      <td>77.6149</td>\n",
       "      <td>26.3824</td>\n",
       "      <td>31.7795</td>\n",
       "    </tr>\n",
       "    <tr>\n",
       "      <th>2013-05-22</th>\n",
       "      <td>31.4670</td>\n",
       "      <td>17.2690</td>\n",
       "      <td>84.9899</td>\n",
       "      <td>57.5534</td>\n",
       "      <td>39.3072</td>\n",
       "      <td>50.5316</td>\n",
       "      <td>33.8299</td>\n",
       "      <td>74.0148</td>\n",
       "      <td>43.17</td>\n",
       "      <td>39.9157</td>\n",
       "      <td>...</td>\n",
       "      <td>28.8902</td>\n",
       "      <td>34.9094</td>\n",
       "      <td>77.2502</td>\n",
       "      <td>40.3427</td>\n",
       "      <td>20.2636</td>\n",
       "      <td>26.6210</td>\n",
       "      <td>45.3545</td>\n",
       "      <td>76.5131</td>\n",
       "      <td>26.0284</td>\n",
       "      <td>32.2701</td>\n",
       "    </tr>\n",
       "    <tr>\n",
       "      <th>2013-05-23</th>\n",
       "      <td>31.1267</td>\n",
       "      <td>17.5195</td>\n",
       "      <td>83.2862</td>\n",
       "      <td>57.6559</td>\n",
       "      <td>39.1643</td>\n",
       "      <td>50.6430</td>\n",
       "      <td>33.6147</td>\n",
       "      <td>74.0148</td>\n",
       "      <td>42.77</td>\n",
       "      <td>39.8632</td>\n",
       "      <td>...</td>\n",
       "      <td>28.5650</td>\n",
       "      <td>34.6443</td>\n",
       "      <td>76.9151</td>\n",
       "      <td>40.3816</td>\n",
       "      <td>20.5167</td>\n",
       "      <td>26.1915</td>\n",
       "      <td>45.0103</td>\n",
       "      <td>76.5993</td>\n",
       "      <td>26.0379</td>\n",
       "      <td>31.5872</td>\n",
       "    </tr>\n",
       "    <tr>\n",
       "      <th>2013-05-24</th>\n",
       "      <td>31.0246</td>\n",
       "      <td>17.5387</td>\n",
       "      <td>82.6027</td>\n",
       "      <td>58.0484</td>\n",
       "      <td>38.1976</td>\n",
       "      <td>50.5131</td>\n",
       "      <td>33.8658</td>\n",
       "      <td>73.7457</td>\n",
       "      <td>42.43</td>\n",
       "      <td>39.7580</td>\n",
       "      <td>...</td>\n",
       "      <td>28.4566</td>\n",
       "      <td>34.8122</td>\n",
       "      <td>76.6972</td>\n",
       "      <td>40.0314</td>\n",
       "      <td>20.5167</td>\n",
       "      <td>26.0048</td>\n",
       "      <td>44.9518</td>\n",
       "      <td>76.5227</td>\n",
       "      <td>26.3059</td>\n",
       "      <td>32.1835</td>\n",
       "    </tr>\n",
       "    <tr>\n",
       "      <th>2013-05-28</th>\n",
       "      <td>31.5963</td>\n",
       "      <td>17.4520</td>\n",
       "      <td>82.8404</td>\n",
       "      <td>57.5645</td>\n",
       "      <td>38.1556</td>\n",
       "      <td>50.4481</td>\n",
       "      <td>34.5833</td>\n",
       "      <td>74.5260</td>\n",
       "      <td>42.91</td>\n",
       "      <td>39.8544</td>\n",
       "      <td>...</td>\n",
       "      <td>28.7096</td>\n",
       "      <td>35.3070</td>\n",
       "      <td>77.4094</td>\n",
       "      <td>40.9653</td>\n",
       "      <td>20.7237</td>\n",
       "      <td>26.2009</td>\n",
       "      <td>45.4844</td>\n",
       "      <td>77.3945</td>\n",
       "      <td>26.8800</td>\n",
       "      <td>32.9530</td>\n",
       "    </tr>\n",
       "  </tbody>\n",
       "</table>\n",
       "<p>5 rows × 467 columns</p>\n",
       "</div>"
      ],
      "text/plain": [
       "Name              A      AAL      AAP     AAPL     ABBV      ABC      ABT  \\\n",
       "date                                                                        \n",
       "2013-05-21  31.8140  17.2883  86.3569  57.3325  39.1223  50.7079  33.8299   \n",
       "2013-05-22  31.4670  17.2690  84.9899  57.5534  39.3072  50.5316  33.8299   \n",
       "2013-05-23  31.1267  17.5195  83.2862  57.6559  39.1643  50.6430  33.6147   \n",
       "2013-05-24  31.0246  17.5387  82.6027  58.0484  38.1976  50.5131  33.8658   \n",
       "2013-05-28  31.5963  17.4520  82.8404  57.5645  38.1556  50.4481  34.5833   \n",
       "\n",
       "Name            ACN   ADBE      ADI   ...          XL     XLNX      XOM  \\\n",
       "date                                  ...                                 \n",
       "2013-05-21  74.3556  44.02  40.8008   ...     28.9535  34.8741  77.7614   \n",
       "2013-05-22  74.0148  43.17  39.9157   ...     28.8902  34.9094  77.2502   \n",
       "2013-05-23  74.0148  42.77  39.8632   ...     28.5650  34.6443  76.9151   \n",
       "2013-05-24  73.7457  42.43  39.7580   ...     28.4566  34.8122  76.6972   \n",
       "2013-05-28  74.5260  42.91  39.8544   ...     28.7096  35.3070  77.4094   \n",
       "\n",
       "Name           XRAY      XRX      XYL      YUM      ZBH     ZION      ZTS  \n",
       "date                                                                       \n",
       "2013-05-21  41.1599  20.7467  26.7985  45.5818  77.6149  26.3824  31.7795  \n",
       "2013-05-22  40.3427  20.2636  26.6210  45.3545  76.5131  26.0284  32.2701  \n",
       "2013-05-23  40.3816  20.5167  26.1915  45.0103  76.5993  26.0379  31.5872  \n",
       "2013-05-24  40.0314  20.5167  26.0048  44.9518  76.5227  26.3059  32.1835  \n",
       "2013-05-28  40.9653  20.7237  26.2009  45.4844  77.3945  26.8800  32.9530  \n",
       "\n",
       "[5 rows x 467 columns]"
      ]
     },
     "execution_count": 17,
     "metadata": {},
     "output_type": "execute_result"
    }
   ],
   "source": [
    "closing_price_data.head()"
   ]
  },
  {
   "cell_type": "code",
   "execution_count": 18,
   "metadata": {},
   "outputs": [
    {
     "data": {
      "text/plain": [
       "(1259, 30)"
      ]
     },
     "execution_count": 18,
     "metadata": {},
     "output_type": "execute_result"
    }
   ],
   "source": [
    "ticket = ['MMM','AXP','AAPL','BA','CAT','CVX','CSCO','KO','DIS','D','XOM','GE','GS','HD','IBM','INTC','JNJ','JPM','MCD','MRK','MSFT','NKE','PFE','PG','TRV','UTX','UNH','VZ','V','WMT']\n",
    "stock_data = closing_price_data[ticket]\n",
    "stock_data.shape"
   ]
  },
  {
   "cell_type": "markdown",
   "metadata": {},
   "source": [
    "# Now is for the partitions of data"
   ]
  },
  {
   "cell_type": "code",
   "execution_count": 19,
   "metadata": {},
   "outputs": [],
   "source": [
    "class my_mat_funcs():\n",
    "    import numpy as np\n",
    "    def mat_mults(*args):\n",
    "        if(len(args)==1):\n",
    "            return args[0]\n",
    "        else:\n",
    "            return np.matmul(args[0],mat_mults(*args[1:]))"
   ]
  },
  {
   "cell_type": "code",
   "execution_count": 20,
   "metadata": {},
   "outputs": [],
   "source": [
    "from collections import OrderedDict\n",
    "########## Postcondition: calculate each w ##################\n",
    "def optimal_solution(stock_data_partition, sigma = 'sample', inverse = False):\n",
    "    \n",
    "    logret = np.log(stock_data_partition).diff()\n",
    "    mu = logret[1:].mean()\n",
    "    if(inverse):\n",
    "        s, _ = sigma.shape\n",
    "        one = np.ones((s,1), dtype = float)\n",
    "        w = 1 / mat_mults(np.transpose(one), sigma, one)[0] * mat_mults(sigma, one)\n",
    "    else:\n",
    "        import cvxpy as cvx\n",
    "        if(sigma == 'sample'):\n",
    "            sigma = logret.cov()\n",
    "        s, _ = sigma.shape\n",
    "        w = cvx.Variable(s)# the length of w is x\n",
    "        risk = cvx.quad_form(w, sigma.as_matrix())\n",
    "        prob = cvx.Problem(cvx.Minimize(risk),\n",
    "                           [cvx.sum_entries(w) == 1])\n",
    "        prob.solve()\n",
    "    \n",
    "    return w.value\n",
    "    "
   ]
  },
  {
   "cell_type": "code",
   "execution_count": 21,
   "metadata": {},
   "outputs": [],
   "source": [
    "#### Postcondition: calculate all w ##############\n",
    "def Optimization_At_Each_Period(stock_data,days_of_period):\n",
    "    w=[]\n",
    "    for current_period_num in range(int(np.floor( (len(stock_data)/days_of_period) ))):\n",
    "        stock_data_partition = stock_data[current_period_num*days_of_period:(current_period_num+1)*days_of_period].copy()\n",
    "        w.append(optimal_solution(stock_data_partition))\n",
    "    return np.column_stack(w)\n",
    "#     if len(stock_data)/days_of_period-int(len(stock_data)/days_of_period)==0:\n",
    "#         return np.column_stack(w)\n",
    "#     else:\n",
    "#         print (\"Last Trading Period Not Finished\")\n",
    "#         last_start=int(np.floor( (len(stock_data)/days_of_period) ))*days_of_period\n",
    "#         last_end=len(stock_data)-1\n",
    "#         w.append(optimal_solution(stock_data[last_start:last_end]))\n",
    "#         return np.column_stack(w)"
   ]
  },
  {
   "cell_type": "code",
   "execution_count": 22,
   "metadata": {},
   "outputs": [],
   "source": [
    "#### Postcondition: list of return chunks ################\n",
    "def return_over_time(stock_data,days_of_period):\n",
    "    re=[]\n",
    "    for current_period_num in range(int(np.floor( (len(stock_data)/days_of_period) ))):\n",
    "        before = stock_data[(days_of_period*current_period_num+1):(days_of_period*(current_period_num+1)+1)]\n",
    "        after = stock_data[(days_of_period*current_period_num):(days_of_period*(current_period_num+1))]\n",
    "        tmp = np.log(np.array(after)/np.array(before))\n",
    "        tmp = pd.DataFrame(tmp,columns = after.columns)\n",
    "        re.append(tmp)\n",
    "        \n",
    "    if len(stock_data)/days_of_period-int(len(stock_data)/days_of_period)==0:\n",
    "        return re\n",
    "    else:\n",
    "        print (\"Last Trading Period Not Finished\")\n",
    "        last_start=int(np.floor( (len(stock_data)/days_of_period) ))*days_of_period\n",
    "        last_end=len(stock_data)-1\n",
    "        before = stock_data[(last_start-1):(last_end-1)]\n",
    "        after = stock_data[last_start:last_end]\n",
    "        tmp = np.log(np.array(after)/np.array(before))\n",
    "        tmp = pd.DataFrame(tmp,columns = after.columns)\n",
    "        re.append(tmp)\n",
    "        return re"
   ]
  },
  {
   "cell_type": "code",
   "execution_count": 23,
   "metadata": {},
   "outputs": [],
   "source": [
    "days_of_period = 252"
   ]
  },
  {
   "cell_type": "code",
   "execution_count": 24,
   "metadata": {},
   "outputs": [],
   "source": [
    "def Realized_Return(stock_data,days_of_period, start = '2014-05-21'):\n",
    "    n = days_of_period\n",
    "    es = pd.Series(np.arange(n, ))\n",
    "    Mat_Optimization_At_Each_Period = Optimization_At_Each_Period(stock_data,days_of_period)  # w\n",
    "    Mat_return_over_time = return_over_time(stock_data,days_of_period)  # return dataframe by chunks\n",
    "    Total_time = Mat_Optimization_At_Each_Period.shape[1]  # Number of periods\n",
    "    ss = shortsize(Mat_Optimization_At_Each_Period)  # Size of short side\n",
    "    daily_r = pd.DataFrame()\n",
    "    for ticker in range(Total_time):\n",
    "        tmp = pd.DataFrame(np.matmul(Mat_return_over_time[ticker + 1], Mat_Optimization_At_Each_Period[:,ticker]))\n",
    "        daily_r  = pd.concat([daily_r, tmp])\n",
    "    return average_return\n",
    "    "
   ]
  },
  {
   "cell_type": "code",
   "execution_count": 25,
   "metadata": {},
   "outputs": [
    {
     "data": {
      "text/plain": [
       "array([ 0,  6, 12, 18])"
      ]
     },
     "execution_count": 25,
     "metadata": {},
     "output_type": "execute_result"
    }
   ],
   "source": [
    "np.arange(0,20,6)"
   ]
  },
  {
   "cell_type": "code",
   "execution_count": 26,
   "metadata": {},
   "outputs": [
    {
     "ename": "NameError",
     "evalue": "name 'shortsize' is not defined",
     "output_type": "error",
     "traceback": [
      "\u001b[0;31m---------------------------------------------------------------------------\u001b[0m",
      "\u001b[0;31mNameError\u001b[0m                                 Traceback (most recent call last)",
      "\u001b[0;32m<ipython-input-26-065010a1ffc2>\u001b[0m in \u001b[0;36m<module>\u001b[0;34m()\u001b[0m\n\u001b[0;32m----> 1\u001b[0;31m \u001b[0mshortsize\u001b[0m\u001b[0;34m(\u001b[0m\u001b[0mMat_Optimization_At_Each_Period\u001b[0m\u001b[0;34m)\u001b[0m\u001b[0;34m\u001b[0m\u001b[0m\n\u001b[0m",
      "\u001b[0;31mNameError\u001b[0m: name 'shortsize' is not defined"
     ]
    }
   ],
   "source": [
    "shortsize(Mat_Optimization_At_Each_Period)"
   ]
  },
  {
   "cell_type": "code",
   "execution_count": 27,
   "metadata": {},
   "outputs": [],
   "source": [
    "def shortsize(Mat_Optimization_At_Each_Period):\n",
    "    ss = np.empty(Mat_Optimization_At_Each_Period.shape[1])  # take number of columns (number of periods)\n",
    "    for i in range(Mat_Optimization_At_Each_Period.shape[1]):\n",
    "        absw = np.array([np.min(np.array([np.asscalar(j),0])) for j in Mat_Optimization_At_Each_Period[:,i]])\n",
    "        ss[i] = np.sum(np.abs(absw)) / np.sum(np.abs(Mat_Optimization_At_Each_Period[:,i]))\n",
    "    return ss"
   ]
  },
  {
   "cell_type": "code",
   "execution_count": 32,
   "metadata": {},
   "outputs": [],
   "source": [
    "def TurnOver(k,stock_data,days_of_period):\n",
    "    if k==1:\n",
    "        Wkm1=np.matrix(np.zeros((len(stock_data.keys()),1)))\n",
    "    Wk = Optimization_At_Each_Period(stock_data,days_of_period)[:,k-1]\n",
    "    Wkm1 = Optimization_At_Each_Period(stock_data,days_of_period)[:,k-2]\n",
    "    ROT=return_over_time(stock_data,days_of_period)\n",
    "    RPlus1 = np.ones(np.matrix(ROT[k]).shape)+np.matrix(ROT[k])\n",
    "    R1row = np.prod(RPlus1)\n",
    "    return Wk-R1row*Wkm1"
   ]
  },
  {
   "cell_type": "code",
   "execution_count": 33,
   "metadata": {},
   "outputs": [
    {
     "name": "stdout",
     "output_type": "stream",
     "text": [
      "Last Trading Period Not Finished\n"
     ]
    },
    {
     "data": {
      "text/plain": [
       "matrix([[ 0.05451399],\n",
       "        [ 0.17116212],\n",
       "        [ 0.04548382],\n",
       "        [-0.09574047],\n",
       "        [ 0.05579512],\n",
       "        [-0.09302996],\n",
       "        [-0.06597448],\n",
       "        [ 0.28591557],\n",
       "        [ 0.06356186],\n",
       "        [ 0.20115559],\n",
       "        [ 0.05377596],\n",
       "        [-0.07766061],\n",
       "        [-0.00994574],\n",
       "        [ 0.02294318],\n",
       "        [ 0.02074876],\n",
       "        [-0.00592271],\n",
       "        [ 0.24289829],\n",
       "        [-0.05651342],\n",
       "        [ 0.1129356 ],\n",
       "        [-0.09614955],\n",
       "        [-0.07210555],\n",
       "        [ 0.01933933],\n",
       "        [ 0.09799251],\n",
       "        [ 0.09379296],\n",
       "        [-0.08819687],\n",
       "        [ 0.01948447],\n",
       "        [ 0.02632329],\n",
       "        [ 0.0783836 ],\n",
       "        [-0.05386637],\n",
       "        [ 0.04502002]])"
      ]
     },
     "execution_count": 33,
     "metadata": {},
     "output_type": "execute_result"
    }
   ],
   "source": [
    "TurnOver(3,stock_data,252)"
   ]
  },
  {
   "cell_type": "code",
   "execution_count": 28,
   "metadata": {},
   "outputs": [
    {
     "ename": "NameError",
     "evalue": "name 'Total_time' is not defined",
     "output_type": "error",
     "traceback": [
      "\u001b[0;31m---------------------------------------------------------------------------\u001b[0m",
      "\u001b[0;31mNameError\u001b[0m                                 Traceback (most recent call last)",
      "\u001b[0;32m<ipython-input-28-fc375fa7ee30>\u001b[0m in \u001b[0;36m<module>\u001b[0;34m()\u001b[0m\n\u001b[1;32m      1\u001b[0m \u001b[0mdaily_r\u001b[0m \u001b[0;34m=\u001b[0m \u001b[0mpd\u001b[0m\u001b[0;34m.\u001b[0m\u001b[0mDataFrame\u001b[0m\u001b[0;34m(\u001b[0m\u001b[0;34m)\u001b[0m\u001b[0;34m\u001b[0m\u001b[0m\n\u001b[0;32m----> 2\u001b[0;31m \u001b[0;32mfor\u001b[0m \u001b[0mticker\u001b[0m \u001b[0;32min\u001b[0m \u001b[0mrange\u001b[0m\u001b[0;34m(\u001b[0m\u001b[0mTotal_time\u001b[0m\u001b[0;34m)\u001b[0m\u001b[0;34m:\u001b[0m\u001b[0;34m\u001b[0m\u001b[0m\n\u001b[0m\u001b[1;32m      3\u001b[0m     \u001b[0mdaily_r\u001b[0m  \u001b[0;34m=\u001b[0m \u001b[0mpd\u001b[0m\u001b[0;34m.\u001b[0m\u001b[0mconcat\u001b[0m\u001b[0;34m(\u001b[0m\u001b[0;34m[\u001b[0m\u001b[0mdaily_r\u001b[0m\u001b[0;34m,\u001b[0m \u001b[0mpd\u001b[0m\u001b[0;34m.\u001b[0m\u001b[0mDataFrame\u001b[0m\u001b[0;34m(\u001b[0m\u001b[0mnp\u001b[0m\u001b[0;34m.\u001b[0m\u001b[0mmatmul\u001b[0m\u001b[0;34m(\u001b[0m\u001b[0mMat_return_over_time\u001b[0m\u001b[0;34m[\u001b[0m\u001b[0mticker\u001b[0m \u001b[0;34m+\u001b[0m \u001b[0;36m1\u001b[0m\u001b[0;34m]\u001b[0m\u001b[0;34m,\u001b[0m \u001b[0mMat_Optimization_At_Each_Period\u001b[0m\u001b[0;34m[\u001b[0m\u001b[0;34m:\u001b[0m\u001b[0;34m,\u001b[0m\u001b[0mticker\u001b[0m\u001b[0;34m]\u001b[0m\u001b[0;34m)\u001b[0m\u001b[0;34m)\u001b[0m\u001b[0;34m]\u001b[0m\u001b[0;34m)\u001b[0m\u001b[0;34m\u001b[0m\u001b[0m\n",
      "\u001b[0;31mNameError\u001b[0m: name 'Total_time' is not defined"
     ]
    }
   ],
   "source": [
    "daily_r = pd.DataFrame()\n",
    "for ticker in range(Total_time):\n",
    "    daily_r  = pd.concat([daily_r, pd.DataFrame(np.matmul(Mat_return_over_time[ticker + 1], Mat_Optimization_At_Each_Period[:,ticker]))])"
   ]
  },
  {
   "cell_type": "code",
   "execution_count": null,
   "metadata": {},
   "outputs": [],
   "source": [
    "stock_data.shape"
   ]
  },
  {
   "cell_type": "code",
   "execution_count": null,
   "metadata": {},
   "outputs": [],
   "source": [
    "np.matmul(A,B)"
   ]
  },
  {
   "cell_type": "code",
   "execution_count": null,
   "metadata": {},
   "outputs": [],
   "source": [
    "Mat_return_over_time[ticker].iloc[:,466]"
   ]
  },
  {
   "cell_type": "code",
   "execution_count": null,
   "metadata": {},
   "outputs": [],
   "source": [
    "Mat_Optimization_At_Each_Period.shape"
   ]
  },
  {
   "cell_type": "code",
   "execution_count": null,
   "metadata": {},
   "outputs": [],
   "source": [
    "len(Mat_return_over_time)"
   ]
  },
  {
   "cell_type": "code",
   "execution_count": null,
   "metadata": {},
   "outputs": [],
   "source": [
    "Mat_return_over_time[0].shape"
   ]
  },
  {
   "cell_type": "code",
   "execution_count": null,
   "metadata": {},
   "outputs": [],
   "source": [
    "Mat_Optimization_At_Each_Period.shape"
   ]
  },
  {
   "cell_type": "code",
   "execution_count": null,
   "metadata": {},
   "outputs": [],
   "source": [
    "Mat_return_over_time[0]"
   ]
  },
  {
   "cell_type": "code",
   "execution_count": null,
   "metadata": {},
   "outputs": [],
   "source": [
    "closing_price_data.shape"
   ]
  },
  {
   "cell_type": "code",
   "execution_count": null,
   "metadata": {},
   "outputs": [],
   "source": [
    "ROT=return_over_time(closing_price_data,21)"
   ]
  },
  {
   "cell_type": "code",
   "execution_count": null,
   "metadata": {},
   "outputs": [],
   "source": [
    "ROT.shape"
   ]
  },
  {
   "cell_type": "code",
   "execution_count": null,
   "metadata": {},
   "outputs": [],
   "source": [
    "OMT= Optimization_At_Each_Period(closing_price_data,21)"
   ]
  },
  {
   "cell_type": "code",
   "execution_count": null,
   "metadata": {},
   "outputs": [],
   "source": [
    "Realized_Return(closing_price_data,21)"
   ]
  },
  {
   "cell_type": "code",
   "execution_count": null,
   "metadata": {},
   "outputs": [],
   "source": [
    "OMT.shape"
   ]
  },
  {
   "cell_type": "code",
   "execution_count": null,
   "metadata": {},
   "outputs": [],
   "source": [
    "RR1.shape[1]"
   ]
  },
  {
   "cell_type": "code",
   "execution_count": null,
   "metadata": {},
   "outputs": [],
   "source": [
    "RR1[0,:]"
   ]
  },
  {
   "cell_type": "code",
   "execution_count": null,
   "metadata": {},
   "outputs": [],
   "source": [
    "np.matrix(np.cov(closing_price_data[0:21]))"
   ]
  },
  {
   "cell_type": "code",
   "execution_count": null,
   "metadata": {},
   "outputs": [],
   "source": [
    "np.matrix(np.ones(21))"
   ]
  },
  {
   "cell_type": "code",
   "execution_count": null,
   "metadata": {},
   "outputs": [],
   "source": [
    "np.linalg.inv(np.matmul(\n",
    "    np.matmul(np.matrix(np.ones(21)),\n",
    "              np.matrix(np.cov(closing_price_data[0:21]))),\n",
    "    np.transpose(np.matrix(np.ones(21)))))"
   ]
  },
  {
   "cell_type": "code",
   "execution_count": null,
   "metadata": {},
   "outputs": [],
   "source": [
    "np.linalg.inv(np.matrix(np.ones(21)))"
   ]
  },
  {
   "cell_type": "code",
   "execution_count": 29,
   "metadata": {},
   "outputs": [
    {
     "ename": "NameError",
     "evalue": "name 'sigma' is not defined",
     "output_type": "error",
     "traceback": [
      "\u001b[0;31m---------------------------------------------------------------------------\u001b[0m",
      "\u001b[0;31mNameError\u001b[0m                                 Traceback (most recent call last)",
      "\u001b[0;32m<ipython-input-29-2a83dd635107>\u001b[0m in \u001b[0;36m<module>\u001b[0;34m()\u001b[0m\n\u001b[1;32m      1\u001b[0m \u001b[0;32mimport\u001b[0m \u001b[0mcvxpy\u001b[0m \u001b[0;32mas\u001b[0m \u001b[0mcvx\u001b[0m\u001b[0;34m\u001b[0m\u001b[0m\n\u001b[1;32m      2\u001b[0m \u001b[0;34m\u001b[0m\u001b[0m\n\u001b[0;32m----> 3\u001b[0;31m \u001b[0ms\u001b[0m\u001b[0;34m,\u001b[0m \u001b[0m_\u001b[0m \u001b[0;34m=\u001b[0m \u001b[0msigma\u001b[0m\u001b[0;34m.\u001b[0m\u001b[0mshape\u001b[0m\u001b[0;34m\u001b[0m\u001b[0m\n\u001b[0m\u001b[1;32m      4\u001b[0m \u001b[0;34m\u001b[0m\u001b[0m\n\u001b[1;32m      5\u001b[0m \u001b[0mw\u001b[0m \u001b[0;34m=\u001b[0m \u001b[0mcvx\u001b[0m\u001b[0;34m.\u001b[0m\u001b[0mVariable\u001b[0m\u001b[0;34m(\u001b[0m\u001b[0ms\u001b[0m\u001b[0;34m)\u001b[0m\u001b[0;31m# the length of w is x\u001b[0m\u001b[0;34m\u001b[0m\u001b[0m\n",
      "\u001b[0;31mNameError\u001b[0m: name 'sigma' is not defined"
     ]
    }
   ],
   "source": [
    "import cvxpy as cvx\n",
    "\n",
    "s, _ = sigma.shape\n",
    "\n",
    "w = cvx.Variable(s)# the length of w is x\n",
    "\n",
    "\n",
    "risk = cvx.quad_form(w, sigma.as_matrix())\n",
    "prob = cvx.Problem(cvx.Minimize(risk), \n",
    "               [cvx.sum_entries(w) == 1])\n",
    "prob.solve()\n",
    "w.value"
   ]
  },
  {
   "cell_type": "code",
   "execution_count": null,
   "metadata": {},
   "outputs": [],
   "source": [
    "closing_price_data[0:1]"
   ]
  },
  {
   "cell_type": "code",
   "execution_count": null,
   "metadata": {},
   "outputs": [],
   "source": [
    "closing_price_data[21:22]"
   ]
  },
  {
   "cell_type": "code",
   "execution_count": null,
   "metadata": {},
   "outputs": [],
   "source": [
    "np.log(np.matrix(closing_price_data[21:22])/np.matrix(closing_price_data[0:1]))"
   ]
  },
  {
   "cell_type": "code",
   "execution_count": null,
   "metadata": {},
   "outputs": [],
   "source": [
    "np.matrix(closing_price_data[21:22])"
   ]
  },
  {
   "cell_type": "code",
   "execution_count": null,
   "metadata": {},
   "outputs": [],
   "source": []
  }
 ],
 "metadata": {
  "kernelspec": {
   "display_name": "Python 3",
   "language": "python",
   "name": "python3"
  },
  "language_info": {
   "codemirror_mode": {
    "name": "ipython",
    "version": 3
   },
   "file_extension": ".py",
   "mimetype": "text/x-python",
   "name": "python",
   "nbconvert_exporter": "python",
   "pygments_lexer": "ipython3",
   "version": "3.6.4"
  },
  "varInspector": {
   "cols": {
    "lenName": 16,
    "lenType": 16,
    "lenVar": 40
   },
   "kernels_config": {
    "python": {
     "delete_cmd_postfix": "",
     "delete_cmd_prefix": "del ",
     "library": "var_list.py",
     "varRefreshCmd": "print(var_dic_list())"
    },
    "r": {
     "delete_cmd_postfix": ") ",
     "delete_cmd_prefix": "rm(",
     "library": "var_list.r",
     "varRefreshCmd": "cat(var_dic_list()) "
    }
   },
   "types_to_exclude": [
    "module",
    "function",
    "builtin_function_or_method",
    "instance",
    "_Feature"
   ],
   "window_display": false
  }
 },
 "nbformat": 4,
 "nbformat_minor": 2
}
