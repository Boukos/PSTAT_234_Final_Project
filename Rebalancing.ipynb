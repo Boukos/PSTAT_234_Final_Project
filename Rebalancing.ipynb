{
 "cells": [
  {
   "cell_type": "code",
   "execution_count": null,
   "metadata": {},
   "outputs": [],
   "source": [
    "import pandas as pd\n",
    "import numpy as np"
   ]
  },
  {
   "cell_type": "code",
   "execution_count": null,
   "metadata": {},
   "outputs": [],
   "source": [
    "closing_price_data = pd.read_pickle(\"./closing_price_5yr.pkl\").dropna(axis = 1)"
   ]
  },
  {
   "cell_type": "code",
   "execution_count": null,
   "metadata": {},
   "outputs": [],
   "source": [
    "stock_names = closing_price_data.keys()"
   ]
  },
  {
   "cell_type": "code",
   "execution_count": null,
   "metadata": {},
   "outputs": [],
   "source": [
    "closing_price_data.head()"
   ]
  },
  {
   "cell_type": "code",
   "execution_count": null,
   "metadata": {},
   "outputs": [],
   "source": [
    "ticket = ['MMM','AXP','AAPL','BA','CAT','CVX','CSCO','KO','DIS','D','XOM','GE','GS','HD','IBM','INTC','JNJ','JPM','MCD','MRK','MSFT','NKE','PFE','PG','TRV','UTX','UNH','VZ','V','WMT']\n",
    "stock_data = closing_price_data[ticket]\n",
    "stock_data.shape"
   ]
  },
  {
   "cell_type": "markdown",
   "metadata": {},
   "source": [
    "# Now is for the partitions of data"
   ]
  },
  {
   "cell_type": "code",
   "execution_count": null,
   "metadata": {},
   "outputs": [],
   "source": [
    "class my_mat_funcs():\n",
    "    import numpy as np\n",
    "    def mat_mults(*args):\n",
    "        if(len(args)==1):\n",
    "            return args[0]\n",
    "        else:\n",
    "            return np.matmul(args[0],mat_mults(*args[1:]))"
   ]
  },
  {
   "cell_type": "code",
   "execution_count": null,
   "metadata": {},
   "outputs": [],
   "source": [
    "from collections import OrderedDict\n",
    "########## Postcondition: calculate each w ##################\n",
    "def optimal_solution(stock_data_partition, sigma = 'sample', inverse = False):\n",
    "    \n",
    "    logret = np.log(stock_data_partition).diff()\n",
    "    mu = logret[1:].mean()\n",
    "    if(inverse):\n",
    "        s, _ = sigma.shape\n",
    "        one = np.ones((s,1), dtype = float)\n",
    "        w = 1 / mat_mults(np.transpose(one), sigma, one)[0] * mat_mults(sigma, one)\n",
    "    else:\n",
    "        import cvxpy as cvx\n",
    "        if(sigma == 'sample'):\n",
    "            sigma = logret.cov()\n",
    "        s, _ = sigma.shape\n",
    "        w = cvx.Variable(s)# the length of w is x\n",
    "        risk = cvx.quad_form(w, sigma.as_matrix())\n",
    "        prob = cvx.Problem(cvx.Minimize(risk),\n",
    "                           [cvx.sum_entries(w) == 1])\n",
    "        prob.solve()\n",
    "    \n",
    "    return w.value\n",
    "    "
   ]
  },
  {
   "cell_type": "code",
   "execution_count": null,
   "metadata": {},
   "outputs": [],
   "source": [
    "#### Postcondition: calculate all w ##############\n",
    "def Optimization_At_Each_Period(stock_data,days_of_period):\n",
    "    w=[]\n",
    "    for current_period_num in range(int(np.floor( (len(stock_data)/days_of_period) ))):\n",
    "        stock_data_partition = stock_data[current_period_num*days_of_period:(current_period_num+1)*days_of_period].copy()\n",
    "        w.append(optimal_solution(stock_data_partition))\n",
    "    return np.column_stack(w)\n",
    "#     if len(stock_data)/days_of_period-int(len(stock_data)/days_of_period)==0:\n",
    "#         return np.column_stack(w)\n",
    "#     else:\n",
    "#         print (\"Last Trading Period Not Finished\")\n",
    "#         last_start=int(np.floor( (len(stock_data)/days_of_period) ))*days_of_period\n",
    "#         last_end=len(stock_data)-1\n",
    "#         w.append(optimal_solution(stock_data[last_start:last_end]))\n",
    "#         return np.column_stack(w)"
   ]
  },
  {
   "cell_type": "code",
   "execution_count": null,
   "metadata": {},
   "outputs": [],
   "source": [
    "#### Postcondition: list of return chunks ################\n",
    "def return_over_time(stock_data,days_of_period):\n",
    "    re=[]\n",
    "    for current_period_num in range(int(np.floor( (len(stock_data)/days_of_period) ))):\n",
    "        before = stock_data[(days_of_period*current_period_num+1):(days_of_period*(current_period_num+1)+1)]\n",
    "        after = stock_data[(days_of_period*current_period_num):(days_of_period*(current_period_num+1))]\n",
    "        tmp = np.log(np.array(after)/np.array(before))\n",
    "        tmp = pd.DataFrame(tmp,columns = after.columns)\n",
    "        re.append(tmp)\n",
    "        \n",
    "    if len(stock_data)/days_of_period-int(len(stock_data)/days_of_period)==0:\n",
    "        return re\n",
    "    else:\n",
    "        print (\"Last Trading Period Not Finished\")\n",
    "        last_start=int(np.floor( (len(stock_data)/days_of_period) ))*days_of_period\n",
    "        last_end=len(stock_data)-1\n",
    "        before = stock_data[(last_start-1):(last_end-1)]\n",
    "        after = stock_data[last_start:last_end]\n",
    "        tmp = np.log(np.array(after)/np.array(before))\n",
    "        tmp = pd.DataFrame(tmp,columns = after.columns)\n",
    "        re.append(tmp)\n",
    "        return re"
   ]
  },
  {
   "cell_type": "code",
   "execution_count": null,
   "metadata": {},
   "outputs": [],
   "source": [
    "days_of_period = 252"
   ]
  },
  {
   "cell_type": "code",
   "execution_count": null,
   "metadata": {},
   "outputs": [],
   "source": [
    "def Realized_Return(stock_data,days_of_period, start = '2014-05-21'):\n",
    "    n = days_of_period\n",
    "    es = pd.Series(np.arange(n, ))\n",
    "    Mat_Optimization_At_Each_Period = Optimization_At_Each_Period(stock_data,days_of_period)  # w\n",
    "    Mat_return_over_time = return_over_time(stock_data,days_of_period)  # return dataframe by chunks\n",
    "    Total_time = Mat_Optimization_At_Each_Period.shape[1]  # Number of periods\n",
    "    ss = shortsize(Mat_Optimization_At_Each_Period)  # Size of short side\n",
    "    daily_r = pd.DataFrame()\n",
    "    for ticker in range(Total_time):\n",
    "        tmp = pd.DataFrame(np.matmul(Mat_return_over_time[ticker + 1], Mat_Optimization_At_Each_Period[:,ticker]))\n",
    "        daily_r  = pd.concat([daily_r, tmp])\n",
    "    return average_return\n",
    "    "
   ]
  },
  {
   "cell_type": "code",
   "execution_count": null,
   "metadata": {},
   "outputs": [],
   "source": [
    "np.arange(0,20,6)"
   ]
  },
  {
   "cell_type": "code",
   "execution_count": null,
   "metadata": {},
   "outputs": [],
   "source": [
    "shortsize(Mat_Optimization_At_Each_Period)"
   ]
  },
  {
   "cell_type": "code",
   "execution_count": null,
   "metadata": {},
   "outputs": [],
   "source": [
    "def shortsize(Mat_Optimization_At_Each_Period):\n",
    "    ss = np.empty(Mat_Optimization_At_Each_Period.shape[1])  # take number of columns (number of periods)\n",
    "    for i in range(Mat_Optimization_At_Each_Period.shape[1]):\n",
    "        absw = np.array([np.min(np.array([np.asscalar(j),0])) for j in Mat_Optimization_At_Each_Period[:,i]])\n",
    "        ss[i] = np.sum(np.abs(absw)) / np.sum(np.abs(Mat_Optimization_At_Each_Period[:,i]))\n",
    "    return ss"
   ]
  },
  {
   "cell_type": "code",
   "execution_count": null,
   "metadata": {},
   "outputs": [],
   "source": [
    "daily_r = pd.DataFrame()\n",
    "for ticker in range(Total_time):\n",
    "    daily_r  = pd.concat([daily_r, pd.DataFrame(np.matmul(Mat_return_over_time[ticker + 1], Mat_Optimization_At_Each_Period[:,ticker]))])"
   ]
  },
  {
   "cell_type": "code",
   "execution_count": null,
   "metadata": {},
   "outputs": [],
   "source": [
    "stock_data.shape"
   ]
  },
  {
   "cell_type": "code",
   "execution_count": null,
   "metadata": {},
   "outputs": [],
   "source": [
    "np.matmul(A,B)"
   ]
  },
  {
   "cell_type": "code",
   "execution_count": null,
   "metadata": {},
   "outputs": [],
   "source": [
    "Mat_return_over_time[ticker].iloc[:,466]"
   ]
  },
  {
   "cell_type": "code",
   "execution_count": null,
   "metadata": {},
   "outputs": [],
   "source": [
    "Mat_Optimization_At_Each_Period.shape"
   ]
  },
  {
   "cell_type": "code",
   "execution_count": null,
   "metadata": {},
   "outputs": [],
   "source": [
    "len(Mat_return_over_time)"
   ]
  },
  {
   "cell_type": "code",
   "execution_count": null,
   "metadata": {},
   "outputs": [],
   "source": [
    "Mat_return_over_time[0].shape"
   ]
  },
  {
   "cell_type": "code",
   "execution_count": null,
   "metadata": {},
   "outputs": [],
   "source": [
    "Mat_Optimization_At_Each_Period.shape"
   ]
  },
  {
   "cell_type": "code",
   "execution_count": null,
   "metadata": {},
   "outputs": [],
   "source": [
    "Mat_return_over_time[0]"
   ]
  },
  {
   "cell_type": "code",
   "execution_count": null,
   "metadata": {},
   "outputs": [],
   "source": [
    "closing_price_data.shape"
   ]
  },
  {
   "cell_type": "code",
   "execution_count": null,
   "metadata": {},
   "outputs": [],
   "source": [
    "ROT=return_over_time(closing_price_data,21)"
   ]
  },
  {
   "cell_type": "code",
   "execution_count": null,
   "metadata": {},
   "outputs": [],
   "source": [
    "ROT.shape"
   ]
  },
  {
   "cell_type": "code",
   "execution_count": null,
   "metadata": {},
   "outputs": [],
   "source": [
    "OMT= Optimization_At_Each_Period(closing_price_data,21)"
   ]
  },
  {
   "cell_type": "code",
   "execution_count": null,
   "metadata": {},
   "outputs": [],
   "source": [
    "Realized_Return(closing_price_data,21)"
   ]
  },
  {
   "cell_type": "code",
   "execution_count": null,
   "metadata": {},
   "outputs": [],
   "source": [
    "OMT.shape"
   ]
  },
  {
   "cell_type": "code",
   "execution_count": null,
   "metadata": {},
   "outputs": [],
   "source": [
    "RR1.shape[1]"
   ]
  },
  {
   "cell_type": "code",
   "execution_count": null,
   "metadata": {},
   "outputs": [],
   "source": [
    "RR1[0,:]"
   ]
  },
  {
   "cell_type": "code",
   "execution_count": null,
   "metadata": {},
   "outputs": [],
   "source": [
    "np.matrix(np.cov(closing_price_data[0:21]))"
   ]
  },
  {
   "cell_type": "code",
   "execution_count": null,
   "metadata": {},
   "outputs": [],
   "source": [
    "np.matrix(np.ones(21))"
   ]
  },
  {
   "cell_type": "code",
   "execution_count": null,
   "metadata": {},
   "outputs": [],
   "source": [
    "np.linalg.inv(np.matmul(\n",
    "    np.matmul(np.matrix(np.ones(21)),\n",
    "              np.matrix(np.cov(closing_price_data[0:21]))),\n",
    "    np.transpose(np.matrix(np.ones(21)))))"
   ]
  },
  {
   "cell_type": "code",
   "execution_count": null,
   "metadata": {},
   "outputs": [],
   "source": [
    "np.linalg.inv(np.matrix(np.ones(21)))"
   ]
  },
  {
   "cell_type": "code",
   "execution_count": null,
   "metadata": {},
   "outputs": [],
   "source": [
    "import cvxpy as cvx\n",
    "\n",
    "s, _ = sigma.shape\n",
    "\n",
    "w = cvx.Variable(s)# the length of w is x\n",
    "\n",
    "\n",
    "risk = cvx.quad_form(w, sigma.as_matrix())\n",
    "prob = cvx.Problem(cvx.Minimize(risk), \n",
    "               [cvx.sum_entries(w) == 1])\n",
    "prob.solve()\n",
    "w.value"
   ]
  },
  {
   "cell_type": "code",
   "execution_count": null,
   "metadata": {},
   "outputs": [],
   "source": [
    "closing_price_data[0:1]"
   ]
  },
  {
   "cell_type": "code",
   "execution_count": null,
   "metadata": {},
   "outputs": [],
   "source": [
    "closing_price_data[21:22]"
   ]
  },
  {
   "cell_type": "code",
   "execution_count": null,
   "metadata": {},
   "outputs": [],
   "source": [
    "np.log(np.matrix(closing_price_data[21:22])/np.matrix(closing_price_data[0:1]))"
   ]
  },
  {
   "cell_type": "code",
   "execution_count": null,
   "metadata": {},
   "outputs": [],
   "source": [
    "np.matrix(closing_price_data[21:22])"
   ]
  },
  {
   "cell_type": "code",
   "execution_count": null,
   "metadata": {},
   "outputs": [],
   "source": []
  }
 ],
 "metadata": {
  "language_info": {
   "name": "python",
   "pygments_lexer": "ipython3"
  }
 },
 "nbformat": 4,
 "nbformat_minor": 2
}
